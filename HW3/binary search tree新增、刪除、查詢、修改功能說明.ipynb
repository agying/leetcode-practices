{
 "cells": [
  {
   "cell_type": "markdown",
   "metadata": {},
   "source": [
    "### insert函式\n",
    "目標：透過insert函式，放入新增的數值到BST中，並經過二叉樹分類的規則排列。數值比根小的節點放左邊，數值比根大的節點往右放。"
   ]
  },
  {
   "cell_type": "markdown",
   "metadata": {},
   "source": [
    "## search函式\n",
    "目標：判斷BST有沒有特定值的節點，並且返回該節點"
   ]
  },
  {
   "cell_type": "markdown",
   "metadata": {},
   "source": [
    "## delect函式\n",
    "目標：刪除含有特定值的節點，此處需要應用`search()`尋找含有特定值的節點。<br>\n",
    "      若找到時，需考慮四項情境再開始刪除該節點的處理：<br>\n",
    "   * (1) 當該節點沒有任何子節點\n",
    "   * (2) 當該節點只有一左節點\n",
    "   * (3) 當該節點只有一右節點\n",
    "   * (4) 當該節點有兩個子節點，本身就是一BST\n",
    "\n",
    "<br>\n",
    "當情景為(1)時，直接刪除即可；為(2)或(3)時，刪除該節點後，令其唯一的子節點與其父節點相連接；<br>\n",
    "而當情景為(4)時，則有兩個選擇：(a) 從其左方子節點樹中找最大值，用該最大值的節點取帶目標節點 (b) 從其右方子節點樹中找最小值，用該最小值的節點取帶目標節點。而我選擇(a)方法作為撰寫程式碼的參考"
   ]
  },
  {
   "cell_type": "markdown",
   "metadata": {},
   "source": [
    "## modify函式\n",
    "目標：用new_val取代含有特定數值的目標節點，並將該Binary Tree修改程Binary Search Tree，符合BST的規定"
   ]
  }
 ],
 "metadata": {
  "kernelspec": {
   "display_name": "Python 3",
   "language": "python",
   "name": "python3"
  },
  "language_info": {
   "codemirror_mode": {
    "name": "ipython",
    "version": 3
   },
   "file_extension": ".py",
   "mimetype": "text/x-python",
   "name": "python",
   "nbconvert_exporter": "python",
   "pygments_lexer": "ipython3",
   "version": "3.7.3"
  }
 },
 "nbformat": 4,
 "nbformat_minor": 2
}
