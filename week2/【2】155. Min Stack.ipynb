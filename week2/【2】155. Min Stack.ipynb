{
 "cells": [
  {
   "cell_type": "code",
   "execution_count": 3,
   "metadata": {},
   "outputs": [],
   "source": [
    "class MinStack:\n",
    "\n",
    "    # 先對外宣告stack是一個list\n",
    "    def __init__(self):\n",
    "        self.stack = []\n",
    "    \n",
    "    def push(self, x):\n",
    "        if len(self.stack) < 0:\n",
    "            return -1\n",
    "        else:\n",
    "            self.stack.append(x)\n",
    "\n",
    "    def pop(self):\n",
    "        if len(self.stack) <= 0:\n",
    "            return -1\n",
    "        else:\n",
    "            self.stack.pop()\n",
    "\n",
    "#   跳出盤子最上方的數值，也就是最後被放上list的值\n",
    "    def top(self):\n",
    "        if len(self.stack) <= 0:\n",
    "            return None\n",
    "        else:\n",
    "            return self.stack[-1]\n",
    "\n",
    "    def getMin(self):\n",
    "        return min(self.stack)\n",
    "    \n",
    "    def __str__(self):\n",
    "        return str(self.stack)\n",
    "\n",
    "    def __repr__(self):\n",
    "        return str(self)\n",
    "\n",
    "# Your MinStack object will be instantiated and called as such:\n",
    "# obj = MinStack()\n",
    "# obj.push(x)\n",
    "# obj.pop()\n",
    "# param_3 = obj.top()\n",
    "# param_4 = obj.getMin()"
   ]
  },
  {
   "cell_type": "code",
   "execution_count": 25,
   "metadata": {},
   "outputs": [
    {
     "data": {
      "text/plain": [
       "[51, 4, 5, 9]"
      ]
     },
     "execution_count": 25,
     "metadata": {},
     "output_type": "execute_result"
    }
   ],
   "source": [
    "stackobj = MinStack()\n",
    "stackobj.push(51)\n",
    "stackobj.push(4)\n",
    "stackobj.push(5)\n",
    "stackobj.push(9)\n",
    "stackobj"
   ]
  },
  {
   "cell_type": "code",
   "execution_count": 26,
   "metadata": {},
   "outputs": [
    {
     "data": {
      "text/plain": [
       "[51, 4, 5]"
      ]
     },
     "execution_count": 26,
     "metadata": {},
     "output_type": "execute_result"
    }
   ],
   "source": [
    "stackobj.pop()\n",
    "stackobj"
   ]
  },
  {
   "cell_type": "code",
   "execution_count": 27,
   "metadata": {},
   "outputs": [
    {
     "data": {
      "text/plain": [
       "5"
      ]
     },
     "execution_count": 27,
     "metadata": {},
     "output_type": "execute_result"
    }
   ],
   "source": [
    "# 在stack中如同盤子堆疊，先進後出，最上面的盤子是最晚被放上去的\n",
    "stackobj.top()"
   ]
  },
  {
   "cell_type": "code",
   "execution_count": 28,
   "metadata": {},
   "outputs": [
    {
     "data": {
      "text/plain": [
       "4"
      ]
     },
     "execution_count": 28,
     "metadata": {},
     "output_type": "execute_result"
    }
   ],
   "source": [
    "stackobj.getMin()"
   ]
  },
  {
   "cell_type": "code",
   "execution_count": null,
   "metadata": {},
   "outputs": [],
   "source": []
  }
 ],
 "metadata": {
  "kernelspec": {
   "display_name": "Python 3",
   "language": "python",
   "name": "python3"
  },
  "language_info": {
   "codemirror_mode": {
    "name": "ipython",
    "version": 3
   },
   "file_extension": ".py",
   "mimetype": "text/x-python",
   "name": "python",
   "nbconvert_exporter": "python",
   "pygments_lexer": "ipython3",
   "version": "3.7.3"
  }
 },
 "nbformat": 4,
 "nbformat_minor": 2
}
