{
 "cells": [
  {
   "cell_type": "markdown",
   "metadata": {},
   "source": [
    "# 法一：偷吃步\n",
    "###直接應用python的既有函式，如append、pop等"
   ]
  },
  {
   "cell_type": "code",
   "execution_count": 50,
   "metadata": {},
   "outputs": [],
   "source": [
    "class MyLinkedList1(object):\n",
    "\n",
    "    def __init__(self):\n",
    "        self.linkedlist = list()\n",
    "\n",
    "    def get(self, index):\n",
    "        if index < 0 or index >= len(self.linkedlist):\n",
    "            return -1\n",
    "        else:\n",
    "            return self.linkedlist[index]\n",
    "\n",
    "    def addAtHead(self, val):\n",
    "        self.linkedlist.insert(0, val)\n",
    "\n",
    "    def addAtTail(self, val):\n",
    "        self.linkedlist.append(val)\n",
    "\n",
    "    def addAtIndex(self, index, val):\n",
    "        if 0 <= index and index <= len(self.linkedlist):\n",
    "            self.linkedlist.insert(index, val)\n",
    "\n",
    "    def deleteAtIndex(self, index):\n",
    "        if 0 <= index and index < len(self.linkedlist):\n",
    "            self.linkedlist.pop(index)\n",
    "\n",
    "            \n",
    "# 因為我想 print出 list中所有元素，因此參考下方網址的程式碼，才得以將所有list中的元素直接在結果中呈現\n",
    "# https://github.com/dokelung/Python-QA/blob/master/questions/dunder/自己寫的數據類型使用print無法輸出每個元素.md\n",
    "\n",
    "    def __str__(self):\n",
    "        return str(self.linkedlist)\n",
    "\n",
    "    def __repr__(self):\n",
    "        return str(self)"
   ]
  },
  {
   "cell_type": "code",
   "execution_count": 60,
   "metadata": {},
   "outputs": [],
   "source": [
    "listtest = MyLinkedList1()\n",
    "param_1 = obj.get(5)\n",
    "listtest.addAtHead(11)\n",
    "listtest.addAtTail(99)\n",
    "listtest.addAtIndex(1, 55)\n",
    "listtest.addAtIndex(2, 77)"
   ]
  },
  {
   "cell_type": "code",
   "execution_count": 61,
   "metadata": {},
   "outputs": [
    {
     "data": {
      "text/plain": [
       "[11, 55, 77, 99]"
      ]
     },
     "execution_count": 61,
     "metadata": {},
     "output_type": "execute_result"
    }
   ],
   "source": [
    "listtest\n",
    "# 結果是 [11, 55, 77, 99]"
   ]
  },
  {
   "cell_type": "code",
   "execution_count": 63,
   "metadata": {},
   "outputs": [
    {
     "data": {
      "text/plain": [
       "[11, 55, 77]"
      ]
     },
     "execution_count": 63,
     "metadata": {},
     "output_type": "execute_result"
    }
   ],
   "source": [
    "listtest.deleteAtIndex(3)\n",
    "listtest\n",
    "# 結果是 [11, 55, 77]"
   ]
  }
 ],
 "metadata": {
  "kernelspec": {
   "display_name": "Python 3",
   "language": "python",
   "name": "python3"
  },
  "language_info": {
   "codemirror_mode": {
    "name": "ipython",
    "version": 3
   },
   "file_extension": ".py",
   "mimetype": "text/x-python",
   "name": "python",
   "nbconvert_exporter": "python",
   "pygments_lexer": "ipython3",
   "version": "3.7.3"
  }
 },
 "nbformat": 4,
 "nbformat_minor": 2
}
