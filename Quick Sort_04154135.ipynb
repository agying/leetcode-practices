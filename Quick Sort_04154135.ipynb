{
 "cells": [
  {
   "cell_type": "markdown",
   "metadata": {},
   "source": [
    "### 先不定義，先釐清步驟再寫函式\n",
    "#### 法一) 很想用卻不能用的方法"
   ]
  },
  {
   "cell_type": "code",
   "execution_count": 4,
   "metadata": {},
   "outputs": [
    {
     "data": {
      "text/plain": [
       "[1, 2, 3, 4, 5, 6, 7, 8, 9]"
      ]
     },
     "execution_count": 4,
     "metadata": {},
     "output_type": "execute_result"
    }
   ],
   "source": [
    "a = [3, 7, 4, 5, 9, 1, 8, 2, 6]\n",
    "a.sort()\n",
    "a"
   ]
  },
  {
   "cell_type": "markdown",
   "metadata": {},
   "source": [
    "#### 法二) 試著應用Qucik Sort的方法，將數列分成幾部分，再令元素間互相比較"
   ]
  },
  {
   "cell_type": "code",
   "execution_count": 7,
   "metadata": {},
   "outputs": [],
   "source": [
    "a = [3, 7, 4, 5, 9, 1, 8, 2, 6]\n",
    "\n",
    "# 找到數列排中間的數字\n",
    "med = a[len(a) // 2]\n",
    "\n",
    "# 讓 med 和 a 中的其他數字比大小，大的放右邊，小的放左邊\n",
    "right = []\n",
    "left = []\n",
    "\n",
    "i = 0\n",
    "while i in range (0, len(a) - 1):\n",
    "    \n",
    "    if med <= a[i]:\n",
    "        right.append(a[i])\n",
    "    else:\n",
    "        left.append(a[i])\n",
    "    \n",
    "    i = i + 1"
   ]
  },
  {
   "cell_type": "code",
   "execution_count": 152,
   "metadata": {},
   "outputs": [],
   "source": [
    "# 讓左右各自找出各自的排中間數字\n",
    "left_med = left[int(len(left) // 2)]\n",
    "\n",
    "# 讓left_med 和 left 中的其他數字比大小，大的在右邊，小的在左邊\n",
    "left_right = []\n",
    "left_left = []\n",
    "\n",
    "i = 0\n",
    "while i in range(0, len(left) - 1):\n",
    "    \n",
    "    if left_med <= left[i]:\n",
    "        left_right.append(left[i])\n",
    "    else: \n",
    "        left_left.append(left[i])\n",
    "        \n",
    "    i = i + 1\n",
    "    "
   ]
  },
  {
   "cell_type": "code",
   "execution_count": 153,
   "metadata": {},
   "outputs": [
    {
     "data": {
      "text/plain": [
       "[[3, 7, 4, 5, 1, 8, 2], 9, [9]]"
      ]
     },
     "execution_count": 153,
     "metadata": {},
     "output_type": "execute_result"
    }
   ],
   "source": [
    "[left, med, right]"
   ]
  },
  {
   "cell_type": "markdown",
   "metadata": {},
   "source": [
    "然後再一直切切切，切到每一個左右邊的新數列元素只有一個，此時數列a就是以大小順序排序了..."
   ]
  },
  {
   "cell_type": "markdown",
   "metadata": {},
   "source": [
    "問題來了，我不能一直重複幫數列命名，我需要定義函式"
   ]
  },
  {
   "cell_type": "markdown",
   "metadata": {},
   "source": [
    "#### 法三) 遞迴函式讓程式幫我搞定一切"
   ]
  },
  {
   "cell_type": "markdown",
   "metadata": {},
   "source": [
    "### 在這裡我參考了 [[資料結構] 快速排序法（Quick sort）in Python](http://jialin128.pixnet.net/blog/post/142927691-%5B-%E8%B3%87%E6%96%99%E7%B5%90%E6%A7%8B-%5D-%E5%BF%AB%E9%80%9F%E6%8E%92%E5%BA%8F%E6%B3%95%EF%BC%88quick-sort%EF%BC%89in-python) 的程式碼，<br>關於自己思考和參考網站除錯的說明如下："
   ]
  },
  {
   "cell_type": "markdown",
   "metadata": {},
   "source": [
    "如上面的拆解步驟，我已完成了\n",
    "    * 1. 找排中間的數值 -> med\n",
    "    * 2. 將比med大的數值新增到名為right的數列\n",
    "         反之，則加到left的數列\n",
    "\n",
    "請見下方遞迴函式："
   ]
  },
  {
   "cell_type": "code",
   "execution_count": 3,
   "metadata": {},
   "outputs": [],
   "source": [
    "def Split(List):\n",
    "\n",
    "    # 建立三個空list，分別代表比中間值大、小，以及中間值本身\n",
    "    right = []\n",
    "    left = []\n",
    "    med_list = []\n",
    "    \n",
    "    # 下兩行程式碼是除錯失敗後引用下方網址的程式碼才解決的錯誤\n",
    "    # 此程式碼的目的為設定一個跳出點，表示當List已無元素可拆\n",
    "    if len(List) <= 1: \n",
    "        return List\n",
    "\n",
    "    med = List[(len(List) // 2)]\n",
    "\n",
    "    i = 0\n",
    "    for i in range (0, len(List)):\n",
    "\n",
    "        if med < List[i]:\n",
    "            right.append(List[i])\n",
    "        elif med == List[i]:\n",
    "            med_list.append(List[i])\n",
    "        else:\n",
    "            left.append(List[i])\n",
    "\n",
    "        i = i + 1\n",
    "    return Split(left) + med_list + Split(right)"
   ]
  },
  {
   "cell_type": "code",
   "execution_count": 4,
   "metadata": {},
   "outputs": [
    {
     "data": {
      "text/plain": [
       "[1, 2, 3, 4, 5, 6, 7, 8, 9]"
      ]
     },
     "execution_count": 4,
     "metadata": {},
     "output_type": "execute_result"
    }
   ],
   "source": [
    "b = [3, 7, 4, 5, 9, 1, 8, 2, 6]\n",
    "Split(b)"
   ]
  },
  {
   "cell_type": "markdown",
   "metadata": {},
   "source": [
    "### 試試用class呈現"
   ]
  },
  {
   "cell_type": "code",
   "execution_count": 43,
   "metadata": {},
   "outputs": [],
   "source": [
    "class Quick_Sort():\n",
    "    \n",
    "    \n",
    "    def find_med(self, List):\n",
    "        # 定義找排行中間的數字函數\n",
    "        return List[(len(List) // 2)]\n",
    "    \n",
    "    # 定義 把比 med 大的元素放到右邊數列，比 med 小的元素放到左邊數列\n",
    "    def Split(self, List):\n",
    "\n",
    "        if len(List) <= 1: \n",
    "            return List\n",
    "        \n",
    "        med = self.find_med(List)\n",
    "    \n",
    "        right = []\n",
    "        left = []\n",
    "        med_list = []\n",
    "        \n",
    "        i = 0\n",
    "        for i in range (0, len(List)):\n",
    "\n",
    "            if med < List[i]:\n",
    "                right.append(List[i])\n",
    "            elif med == List[i]:\n",
    "                med_list.append(List[i])\n",
    "            else:\n",
    "                left.append(List[i])\n",
    "\n",
    "            i = i + 1\n",
    "            \n",
    "        return Split(left) + med_list + Split(right)"
   ]
  },
  {
   "cell_type": "code",
   "execution_count": 48,
   "metadata": {},
   "outputs": [],
   "source": [
    "b = [3, 7, 1, 5, 4, 9, 8, 2, 6]\n",
    "a = Quick_Sort()\n",
    "c = a.Split(b)"
   ]
  },
  {
   "cell_type": "code",
   "execution_count": 49,
   "metadata": {},
   "outputs": [
    {
     "data": {
      "text/plain": [
       "[1, 2, 3, 4, 5, 6, 7, 8, 9]"
      ]
     },
     "execution_count": 49,
     "metadata": {},
     "output_type": "execute_result"
    }
   ],
   "source": [
    "c"
   ]
  },
  {
   "cell_type": "markdown",
   "metadata": {},
   "source": [
    "## 參考資料：\n",
    "* [[資料結構] 快速排序法（Quick sort）in Python](http://jialin128.pixnet.net/blog/post/142927691-%5B-%E8%B3%87%E6%96%99%E7%B5%90%E6%A7%8B-%5D-%E5%BF%AB%E9%80%9F%E6%8E%92%E5%BA%8F%E6%B3%95%EF%BC%88quick-sort%EF%BC%89in-python)"
   ]
  }
 ],
 "metadata": {
  "kernelspec": {
   "display_name": "Python 3",
   "language": "python",
   "name": "python3"
  },
  "language_info": {
   "codemirror_mode": {
    "name": "ipython",
    "version": 3
   },
   "file_extension": ".py",
   "mimetype": "text/x-python",
   "name": "python",
   "nbconvert_exporter": "python",
   "pygments_lexer": "ipython3",
   "version": "3.7.3"
  }
 },
 "nbformat": 4,
 "nbformat_minor": 2
}
