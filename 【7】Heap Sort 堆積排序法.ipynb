{
 "cells": [
  {
   "cell_type": "markdown",
   "metadata": {},
   "source": [
    "# 目標：建立堆積排序的函數，排序數列內元素的大小"
   ]
  },
  {
   "cell_type": "markdown",
   "metadata": {},
   "source": [
    "# 重要觀念"
   ]
  },
  {
   "cell_type": "markdown",
   "metadata": {},
   "source": [
    "## (一) 完全二叉樹(Complete Binary Tree)\n",
    "* 完全二叉樹生成節點的方式是由上往下、由左往右生成。且每一個父節點生出子節點數量最多不大於兩個(一生二二生四的意思)。\n",
    "\n",
    "* 完全二叉樹與滿二叉樹最大的差別為滿二叉樹的最後一層節點數量是滿的，而完全二叉樹則是除了最後一層外，其餘階層的節點樹都是滿的。"
   ]
  },
  {
   "cell_type": "markdown",
   "metadata": {},
   "source": [
    "## (二) 堆(heap)"
   ]
  },
  {
   "cell_type": "markdown",
   "metadata": {},
   "source": [
    "> 堆(heap)的成立有兩個原則，分別是(1) 父節點 > 子節點的值、(2) 完全二叉樹"
   ]
  },
  {
   "cell_type": "markdown",
   "metadata": {},
   "source": [
    "<img src = \"完全二叉樹.jpg\" style = \"width:/250px; height:/200px\"/>"
   ]
  },
  {
   "cell_type": "markdown",
   "metadata": {},
   "source": [
    "以上圖為例，當i = 3時，值為3。 同時，\n",
    "該節點的父節點為：(i - 1) / 2\n",
    "該節點的兩個子節點分別為：2i + 1 和 2i + 2"
   ]
  },
  {
   "cell_type": "markdown",
   "metadata": {},
   "source": [
    "# 開始實作"
   ]
  },
  {
   "cell_type": "markdown",
   "metadata": {},
   "source": [
    "## 1. 堆積化(Heapify)"
   ]
  },
  {
   "cell_type": "code",
   "execution_count": 3,
   "metadata": {},
   "outputs": [],
   "source": [
    "def swap(List, i, j):\n",
    "    temp = List[i]\n",
    "    List[i] = List[j]\n",
    "    List[j] = temp"
   ]
  },
  {
   "cell_type": "code",
   "execution_count": 10,
   "metadata": {},
   "outputs": [],
   "source": [
    "def heapify(tree, n, i):  # n表示節點數量、i表示要堆積化的第幾個節點編號\n",
    "    # 找i的子節點1\n",
    "    c1 = 2 * i + 1\n",
    "    # 找i的子節點2\n",
    "    c2 = 2 * i + 2\n",
    "    \n",
    "    if i > n:\n",
    "        return tree\n",
    "    \n",
    "    # 找父節點(i)和兩個子節點 誰最大，並且把最大的值設為父節點，較小的則成為子節點\n",
    "    # 當還有子節點時!! 堆積化!!\n",
    "    if c1 < n & tree[c1] > tree[i]:\n",
    "        swap(tree, c1, i)\n",
    "        heapify(tree, n, i)\n",
    "    elif c2 < n & tree[c2] > tree[i]:\n",
    "        swap(tree, c2, i)\n",
    "        heapify(tree, n, i)"
   ]
  },
  {
   "cell_type": "code",
   "execution_count": 11,
   "metadata": {},
   "outputs": [
    {
     "data": {
      "text/plain": [
       "[4, 10, 3, 5, 1, 2]"
      ]
     },
     "execution_count": 11,
     "metadata": {},
     "output_type": "execute_result"
    }
   ],
   "source": [
    "T = [4, 10, 3, 5, 1, 2]\n",
    "heapify(T, len(T), 0)\n",
    "T"
   ]
  },
  {
   "cell_type": "markdown",
   "metadata": {},
   "source": [
    "#### 發現返回的list不是這樣，看過參考影片的說明後，我需要找tree[i]、tree[c1]、tree[c2]這三個當中最大的"
   ]
  },
  {
   "cell_type": "code",
   "execution_count": 5,
   "metadata": {},
   "outputs": [],
   "source": [
    "def swap(List, i, j):\n",
    "    temp = List[i]\n",
    "    List[i] = List[j]\n",
    "    List[j] = temp"
   ]
  },
  {
   "cell_type": "code",
   "execution_count": 13,
   "metadata": {},
   "outputs": [],
   "source": [
    "def heapify(tree, n, i):  # n表示節點數量、i表示要堆積化的第幾個節點編號\n",
    "    # 找i的子節點1\n",
    "    c1 = 2 * i + 1\n",
    "    # 找i的子節點2\n",
    "    c2 = 2 * i + 2\n",
    "    \n",
    "    if i >= n:\n",
    "        return tree\n",
    "    \n",
    "    # 找父節點(i)和兩個子節點 三個誰最大，並且把最大的值設為父節點，較小的則成為子節點\n",
    "    # 最大的當父節點\n",
    "    # 當還有子節點時!! 堆積化!!\n",
    "    \n",
    "    max_value = i\n",
    "    \n",
    "    if c1 < n & tree[c1] > tree[max_value]:\n",
    "        max_value = c1\n",
    "        swap(tree, max_value, i)\n",
    "        heapify(tree, n, max_value)\n",
    "        \n",
    "    elif c2 < n & tree[c2] > tree[max_value]:\n",
    "        max_value = c2\n",
    "        swap(tree, max_value, i)\n",
    "        heapify(tree, n, max_value)\n",
    "        \n",
    "    elif tree[i] == tree[max_value]:\n",
    "        return tree"
   ]
  },
  {
   "cell_type": "code",
   "execution_count": 14,
   "metadata": {},
   "outputs": [
    {
     "data": {
      "text/plain": [
       "[4, 10, 3, 5, 1, 2]"
      ]
     },
     "execution_count": 14,
     "metadata": {},
     "output_type": "execute_result"
    }
   ],
   "source": [
    "T = [4, 10, 3, 5, 1, 2]\n",
    "heapify(T, len(T), 0)\n",
    "T"
   ]
  },
  {
   "cell_type": "markdown",
   "metadata": {},
   "source": [
    "#### 為甚麼呢？為甚麼改了之後返回的結果連變都不變!!\n",
    "除錯整天後，試過各種方法，結果結果結果發現問題是出在\"&\"!! <br>\n",
    "因為偷懶我那時在程式碼輸入**<font color = red>\"&\"</font>**，但我卻忘了python中我需要打的是`and`..."
   ]
  },
  {
   "cell_type": "code",
   "execution_count": 5,
   "metadata": {},
   "outputs": [],
   "source": [
    "def swap(List, i, j):\n",
    "    temp = List[i]\n",
    "    List[i] = List[j]\n",
    "    List[j] = temp"
   ]
  },
  {
   "cell_type": "code",
   "execution_count": 46,
   "metadata": {},
   "outputs": [],
   "source": [
    "def heapify(tree, n, i):  # n表示節點數量、i表示要堆積化的第幾個節點編號\n",
    "    \n",
    "    # 找i的子節點1\n",
    "    c1 = 2 * i + 1\n",
    "    # 找i的子節點2\n",
    "    c2 = 2 * i + 2\n",
    "    \n",
    "    if i >= n:\n",
    "        return tree\n",
    "    \n",
    "    # 找父節點(i)和兩個子節點 三個誰最大，並且把最大的值設為父節點，較小的則成為子節點\n",
    "    # 最大的當父節點\n",
    "    # 當還有子節點時!! 堆積化!!\n",
    "    \n",
    "    max_value = i\n",
    "    \n",
    "    if c1 < n and tree[c1] > tree[max_value]:\n",
    "        max_value = c1\n",
    "        swap(tree, max_value, i)\n",
    "        heapify(tree, n, max_value)\n",
    "        \n",
    "    elif c2 < n and tree[c2] > tree[max_value]:\n",
    "        max_value = c2\n",
    "        swap(tree, max_value, i)\n",
    "        heapify(tree, n, max_value)\n",
    "        \n",
    "    elif tree[i] == tree[max_value]:\n",
    "        return tree"
   ]
  },
  {
   "cell_type": "code",
   "execution_count": 47,
   "metadata": {},
   "outputs": [
    {
     "data": {
      "text/plain": [
       "[10, 5, 3, 4, 1, 2]"
      ]
     },
     "execution_count": 47,
     "metadata": {},
     "output_type": "execute_result"
    }
   ],
   "source": [
    "T = [4, 10, 3, 5, 1, 2]\n",
    "heapify(T, len(T), 0)\n",
    "T"
   ]
  },
  {
   "cell_type": "markdown",
   "metadata": {},
   "source": [
    "#### 很無語的，問題解決"
   ]
  },
  {
   "cell_type": "markdown",
   "metadata": {},
   "source": [
    "即使解決了這個問題，但目前二叉樹返回的數列順序仍是錯誤的，問題是出在上方的堆積化函數只能針對tree[0]進行堆積化。<br>\n",
    "我要改良函式，讓函式可以自己**把最後一個子節點的\"父節點\"抓出來**，而**該\"父節點\"以前的每一個節點都會是某個節點的父節點**"
   ]
  },
  {
   "cell_type": "markdown",
   "metadata": {},
   "source": [
    "## 2. 最大堆積(Max - Heap)\n",
    "\n",
    "* 兩大規則：<br>\n",
    "    * 1 . 父節點的值大於子節點 <br>\n",
    "    * 2 . 樹根(root)一定是所有節點的最大值"
   ]
  },
  {
   "cell_type": "code",
   "execution_count": 67,
   "metadata": {},
   "outputs": [],
   "source": [
    "def max_heap(tree, n):\n",
    "\n",
    "    # 找最後一個節點的父節點\n",
    "    last = n - 1\n",
    "\n",
    "    \"\"\"\n",
    "    if n % 2 == 0:\n",
    "        # 如果n是奇數，tree不是完美二叉樹，其父節點的編號為\n",
    "        parent = (last - 1) / 2\n",
    "    else:\n",
    "        # 其父節點的編號為\n",
    "        parent = (last - 1) // 2\n",
    "    \"\"\"\n",
    "    # 上面括弧內符號內的程式，可以縮寫成\n",
    "    parent = (last - 1) // 2\n",
    "\n",
    "    # 當i從parent到0時，以1漸減  # python 中 in range(1, 5) 會返回 1, 2, 3, 4不包含五。 # 所以第二個是-1，其實是包含0之意\n",
    "    for i in range(parent, -1, -1):\n",
    "        heapify(tree, n, i)"
   ]
  },
  {
   "cell_type": "code",
   "execution_count": 75,
   "metadata": {},
   "outputs": [
    {
     "data": {
      "text/plain": [
       "[10, 5, 3, 4, 1, 2]"
      ]
     },
     "execution_count": 75,
     "metadata": {},
     "output_type": "execute_result"
    }
   ],
   "source": [
    "T = [4, 10, 3, 5, 1, 2]\n",
    "max_heap(T, len(T))\n",
    "T"
   ]
  },
  {
   "cell_type": "markdown",
   "metadata": {},
   "source": [
    "## 3. 堆積排序(Heap_Sort)"
   ]
  },
  {
   "cell_type": "markdown",
   "metadata": {},
   "source": [
    "* 當最大堆積完成後，開始要進入\"堆積排序法\"的完結，有幾個順序需要被完成：\n",
    "    * (1) 數列必須先被排為最大堆積\n",
    "    * (2) 交換第一和最後一個節點\n",
    "    * (3) 消除最後一個節點\n",
    "    * (4) 剩下的數列再排成一次最大堆積\n",
    "    * (5) 堆積化最後一個節點"
   ]
  },
  {
   "cell_type": "code",
   "execution_count": 90,
   "metadata": {},
   "outputs": [],
   "source": [
    "def heap_sort(tree, n):\n",
    "    max_heap(tree, n)\n",
    "    \n",
    "    for i in range(n - 1, 0, -1):\n",
    "        swap(tree, 0, i)\n",
    "        max_heap(tree, i)\n",
    "        heapify(tree, i, 0)   # i是指剩下的節點數"
   ]
  },
  {
   "cell_type": "code",
   "execution_count": 91,
   "metadata": {},
   "outputs": [
    {
     "data": {
      "text/plain": [
       "[1, 2, 3, 4, 5, 10]"
      ]
     },
     "execution_count": 91,
     "metadata": {},
     "output_type": "execute_result"
    }
   ],
   "source": [
    "T = [2, 5, 3, 1, 10, 4]\n",
    "heap_sort(T, len(T))\n",
    "T"
   ]
  },
  {
   "cell_type": "markdown",
   "metadata": {},
   "source": [
    "## 類別化(class)\n",
    "以上是用`def`的方式完成，接下來想試著將這些都類別化"
   ]
  },
  {
   "cell_type": "code",
   "execution_count": 1,
   "metadata": {},
   "outputs": [],
   "source": [
    "class Heap_Sort_class():\n",
    "    \n",
    "    def swap(self, List, i, j):\n",
    "        temp = List[i]\n",
    "        List[i] = List[j]\n",
    "        List[j] = temp\n",
    "        \n",
    "    def heapify(self, tree, n, i):  # n表示節點數量、i表示要堆積化的第幾個節點編號\n",
    "    \n",
    "        # 找i的子節點1\n",
    "        c1 = 2 * i + 1\n",
    "        # 找i的子節點2\n",
    "        c2 = 2 * i + 2\n",
    "\n",
    "        if i >= n:\n",
    "            return tree\n",
    "\n",
    "        # 找父節點(i)和兩個子節點 三個誰最大，並且把最大的值設為父節點，較小的則成為子節點\n",
    "        # 最大的當父節點\n",
    "        # 當還有子節點時!! 堆積化!!\n",
    "\n",
    "        max_value = i\n",
    "\n",
    "        if c1 < n and tree[c1] > tree[max_value]:\n",
    "            max_value = c1\n",
    "            self.swap(tree, max_value, i)\n",
    "            self.heapify(tree, n, max_value)\n",
    "\n",
    "        elif c2 < n and tree[c2] > tree[max_value]:\n",
    "            max_value = c2\n",
    "            self.swap(tree, max_value, i)\n",
    "            self.heapify(tree, n, max_value)\n",
    "\n",
    "        elif tree[i] == tree[max_value]:\n",
    "            return tree\n",
    "        \n",
    "    def max_heap(self, tree, n):\n",
    "\n",
    "        # 找最後一個節點的父節點\n",
    "        last = n - 1\n",
    "        parent = (last - 1) // 2\n",
    "\n",
    "        # 當i從parent到0時，以1漸減  # python 中 in range(1, 5) 會返回 1, 2, 3, 4不包含五。 # 所以第二個是-1，其實是包含0之意\n",
    "        for i in range(parent, -1, -1):\n",
    "            self.heapify(tree, n, i)\n",
    "    \n",
    "    def heap_sort(self, tree):\n",
    "        \n",
    "        n = len(tree)\n",
    "        self.max_heap(tree, n)\n",
    "\n",
    "        for i in range(n - 1, 0, -1):\n",
    "            self.swap(tree, 0, i)\n",
    "            self.max_heap(tree, i)\n",
    "            self.heapify(tree, i, 0)   # i是指剩下的節點數"
   ]
  },
  {
   "cell_type": "code",
   "execution_count": 2,
   "metadata": {},
   "outputs": [
    {
     "data": {
      "text/plain": [
       "[-5, 1, 2, 3, 10, 4]"
      ]
     },
     "execution_count": 2,
     "metadata": {},
     "output_type": "execute_result"
    }
   ],
   "source": [
    "T = [2, -5, 3, 1, 10, 4]\n",
    "a = Heap_Sort_class()\n",
    "b = a.heap_sort(T)\n",
    "T"
   ]
  },
  {
   "cell_type": "markdown",
   "metadata": {},
   "source": [
    "## 完成！"
   ]
  },
  {
   "cell_type": "markdown",
   "metadata": {},
   "source": [
    "### 參考資料：\n",
    "* 堆排序(Heapsort)：https://www.youtube.com/watch?v=j-DqQcNPGbE\n",
    "* 排序之堆積排序法(Heap Sort)；http://marklin-blog.logdown.com/posts/1910116"
   ]
  }
 ],
 "metadata": {
  "kernelspec": {
   "display_name": "Python 3",
   "language": "python",
   "name": "python3"
  },
  "language_info": {
   "codemirror_mode": {
    "name": "ipython",
    "version": 3
   },
   "file_extension": ".py",
   "mimetype": "text/x-python",
   "name": "python",
   "nbconvert_exporter": "python",
   "pygments_lexer": "ipython3",
   "version": "3.7.3"
  }
 },
 "nbformat": 4,
 "nbformat_minor": 2
}
