{
 "cells": [
  {
   "cell_type": "markdown",
   "metadata": {},
   "source": [
    "# 說明\n",
    "### Shortest Path(最短路徑)\n",
    "最短路徑：由起點到終點，權重依據指定的圖，求出最少連通成本的圖，由於目標是找到起點到終點的最短路徑，因此與MST不同之處在於路徑不一定包含所有節點。\n",
    "有一常用的演算方式：Dijkstra's Algorithm。\n",
    "\n",
    "### MST (Minimum Spanning Tree)最小生成樹\n",
    "最小生成樹是指一棵「包含圖上所有節點的樹」，而在這個前提生成時，尋找所有連接節點的邊的權重總和為最小。\n",
    "通常此種方法常被應用至判斷電纜線架設的路徑，為何時最能節省成本又能涵蓋目標節點城市。\n",
    "有一常用的演算方式：Kruskal’s Algorithm，是先將每條邊按權重排序，再逐一選擇邊的過程中，已不生成環為前提。"
   ]
  },
  {
   "cell_type": "markdown",
   "metadata": {},
   "source": [
    "# 程式碼參考資料\n",
    "#### Dijkstra部分\n",
    "* 程式碼及連接過程並無參考任何網站或教學之程式碼，自行完成\n",
    "\n",
    "#### Kruskal\n",
    "* 失敗，在判斷環是否生成之處卡住，無法求出MST演算法的結果"
   ]
  },
  {
   "cell_type": "markdown",
   "metadata": {},
   "source": [
    "# 程式碼"
   ]
  },
  {
   "cell_type": "markdown",
   "metadata": {},
   "source": [
    "## Dijkstra"
   ]
  },
  {
   "cell_type": "code",
   "execution_count": 48,
   "metadata": {},
   "outputs": [],
   "source": [
    "from collections import defaultdict \n",
    "\n",
    "class Graph(): \n",
    "\n",
    "    def __init__(self, vertices): \n",
    "        self.V = vertices \n",
    "        self.graph = [] \n",
    "        self.graph_matrix = [[0 for column in range(vertices)]  \n",
    "                    for row in range(vertices)] \n",
    "        \n",
    "    def Dijkstra(self, s):\n",
    "        \n",
    "        t = dict()\n",
    "        t[0] = 0\n",
    "        i = len(self.graph)\n",
    "        s_list = []\n",
    "        \n",
    "        while i >= 0:\n",
    "            # s_list是走訪的節點順序\n",
    "            s_list.append(s)    # 先從起點開始\n",
    "            \n",
    "            for j in range(len(self.graph[s])):\n",
    "               \n",
    "                if self.graph[s][j] != 0:      \n",
    "                    \n",
    "                    if j not in t:\n",
    "                        t[j] = t[s] + self.graph[s][j]\n",
    "                    else:\n",
    "                        if t[j] > t[s] + self.graph[s][j]:\n",
    "                            t[j] = t[s] + self.graph[s][j]\n",
    "                        else:\n",
    "                            pass\n",
    "            \n",
    "            sh = {}\n",
    "            for k1, v1 in t.items():     \n",
    "                if k1 not in s_list:\n",
    "                    sh[k1] = v1\n",
    "                    shortest = min(sh.items(), key = lambda x: x[1])\n",
    "            \n",
    "            s = shortest[0]\n",
    "\n",
    "            i = i - 1\n",
    "            \n",
    "        t = dict(sorted(t.items()))\n",
    "        t = {str(k):v for k, v in t.items()}\n",
    "        return t"
   ]
  },
  {
   "cell_type": "code",
   "execution_count": 49,
   "metadata": {},
   "outputs": [
    {
     "name": "stdout",
     "output_type": "stream",
     "text": [
      "Dijkstra {'0': 0, '1': 4, '2': 12, '3': 19, '4': 21, '5': 11, '6': 9, '7': 8, '8': 14}\n"
     ]
    }
   ],
   "source": [
    "g = Graph(9)\n",
    "g.graph = [[0, 4, 0, 0, 0, 0, 0, 8, 0],\n",
    "          [4, 0, 8, 0, 0, 0, 0, 11, 0],\n",
    "           [0, 8, 0, 7, 0, 4, 0, 0, 2],\n",
    "           [0, 0, 7, 0, 9, 14, 0, 0, 0],\n",
    "           [0, 0, 0, 9, 0, 10, 0, 0, 0],\n",
    "           [0, 0, 4, 14, 10, 0, 2, 0, 0],\n",
    "           [0, 0, 0, 0, 0, 2, 0, 1, 6],\n",
    "           [8, 11, 0, 0, 0, 0, 1, 0, 7],\n",
    "           [0, 0, 2, 0, 0, 0, 6, 7, 0]\n",
    "          ];\n",
    "\n",
    "print(\"Dijkstra\", g.Dijkstra(0))"
   ]
  },
  {
   "cell_type": "markdown",
   "metadata": {},
   "source": [
    "### Dijkstra成功！"
   ]
  },
  {
   "cell_type": "markdown",
   "metadata": {},
   "source": [
    "## Kruskal"
   ]
  },
  {
   "cell_type": "code",
   "execution_count": 46,
   "metadata": {},
   "outputs": [],
   "source": [
    "from collections import defaultdict \n",
    "\n",
    "class Graph(): \n",
    "\n",
    "    def __init__(self, vertices): \n",
    "        self.V = vertices \n",
    "        self.graph = []\n",
    "        self.graph_matrix = [[0 for column in range(vertices)]  \n",
    "                    for row in range(vertices)]\n",
    "        \n",
    "    def addEdge(self, u, v, w): \n",
    "        \n",
    "        self.graph.append([u, v, w])\n",
    "        self.graph = sorted(self.graph, key = lambda l:l[2])\n",
    "        \n",
    "    def stat(self):\n",
    "        \n",
    "        parent_link = {}\n",
    "        \n",
    "        for i in range(len(self.graph)):\n",
    "            parent_link[self.graph[i][0]] = -1\n",
    "            parent_link[self.graph[i][1]] = -1\n",
    "#         return parent_link\n",
    "        \n",
    "    def ifcycle(self):\n",
    "        for i in range(len(self.graph)):\n",
    "            parent_link[self.graph[i][1]] = parent_link\n",
    "        \n",
    "#         for i in range(len(self.graph)):\n",
    "#             if parent_link[self.graph[i][1]] != parent_link[self.graph[i][0]]:\n",
    "#                 parent_link[self.graph[i][1]] = parent_link[self.graph[i][0]]\n",
    "#             else:\n",
    "#                 par\n",
    "        \n",
    "#     def Kruskal(self):\n"
   ]
  },
  {
   "cell_type": "markdown",
   "metadata": {},
   "source": [
    "在判斷環是否形成之處卡住，很難將視覺上的分析過程以程式碼的方式展現出來。"
   ]
  },
  {
   "cell_type": "code",
   "execution_count": 47,
   "metadata": {},
   "outputs": [
    {
     "name": "stdout",
     "output_type": "stream",
     "text": [
      "[[2, 3, 4], [0, 3, 5], [0, 2, 6], [0, 1, 10], [1, 3, 15]]\n"
     ]
    },
    {
     "data": {
      "text/plain": [
       "{2: -1, 3: -1, 0: -1, 1: -1}"
      ]
     },
     "execution_count": 47,
     "metadata": {},
     "output_type": "execute_result"
    }
   ],
   "source": [
    "y = Graph(4)\n",
    "y.addEdge(0, 1, 10)\n",
    "y.addEdge(0, 2, 6)\n",
    "y.addEdge(0, 3, 5)\n",
    "y.addEdge(1, 3, 15)\n",
    "y.addEdge(2, 3, 4)\n",
    "\n",
    "print(y.graph)\n",
    "# y.stat()\n",
    "y.ifcycle()\n",
    "\n",
    "g = Graph(4)\n",
    "g.addEdge(0, 1, 10)\n",
    "g.addEdge(0, 2, 6)\n",
    "g.addEdge(0, 3, 5)\n",
    "g.addEdge(1, 3, 15)\n",
    "g.addEdge(2, 3, 4)\n",
    "\n",
    "print(\"Kruskal\", g.Kruskal())"
   ]
  },
  {
   "cell_type": "markdown",
   "metadata": {},
   "source": [
    "# 流程圖\n",
    "![流程圖](https://github.com/agying/leetcode-practices/blob/master/Shortest%20Path%E6%B5%81%E7%A8%8B%E5%9C%96.jpg)"
   ]
  },
  {
   "cell_type": "markdown",
   "metadata": {},
   "source": [
    "# 其他參考資料\n",
    "* https://ithelp.ithome.com.tw/articles/10209593\n",
    "* https://www.geeksforgeeks.org/detect-cycle-undirected-graph/"
   ]
  }
 ],
 "metadata": {
  "kernelspec": {
   "display_name": "Python 3",
   "language": "python",
   "name": "python3"
  },
  "language_info": {
   "codemirror_mode": {
    "name": "ipython",
    "version": 3
   },
   "file_extension": ".py",
   "mimetype": "text/x-python",
   "name": "python",
   "nbconvert_exporter": "python",
   "pygments_lexer": "ipython3",
   "version": "3.7.3"
  }
 },
 "nbformat": 4,
 "nbformat_minor": 2
}
