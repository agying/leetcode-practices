{
 "cells": [
  {
   "cell_type": "markdown",
   "metadata": {},
   "source": [
    "# 目標：當二叉樹中的數字不完全相同時，返回false；若完全相同，則返回true"
   ]
  },
  {
   "cell_type": "markdown",
   "metadata": {},
   "source": [
    "## (一) 完全二叉樹(Complete Binary Tree)\n",
    "* 完全二叉樹生成節點的方式是由上往下、由左往右生成。且每一個父節點生出子節點數量最多不大於兩個(一生二二生四的意思)。\n",
    "\n",
    "* 完全二叉樹與滿二叉樹最大的差別為滿二叉樹的最後一層節點數量是滿的，而完全二叉樹則是除了最後一層外，其餘階層的節點樹都是滿的。"
   ]
  },
  {
   "cell_type": "markdown",
   "metadata": {},
   "source": [
    "## (二) 堆(heap)"
   ]
  },
  {
   "cell_type": "markdown",
   "metadata": {},
   "source": [
    "> 堆(heap)的成立有兩個原則，分別是(1) 父節點 > 子節點的值、(2) 完全二叉樹"
   ]
  },
  {
   "cell_type": "markdown",
   "metadata": {},
   "source": [
    "<img src = \"完全二叉樹.jpg\" style = \"width:/250px; height:/200px\"/>"
   ]
  },
  {
   "cell_type": "markdown",
   "metadata": {},
   "source": [
    "以上圖為例，當i = 3時，值為3。 同時，\n",
    "該節點的父節點為：(i - 1) / 2\n",
    "該節點的兩個子節點分別為：2i + 1 和 2i + 2"
   ]
  },
  {
   "cell_type": "markdown",
   "metadata": {},
   "source": [
    "### 堆積化(Heapify)"
   ]
  },
  {
   "cell_type": "code",
   "execution_count": 63,
   "metadata": {},
   "outputs": [],
   "source": [
    "def swap(List, i, j):\n",
    "    temp = List[i]\n",
    "    List[i] = List[j]\n",
    "    List[j] = temp"
   ]
  },
  {
   "cell_type": "code",
   "execution_count": 64,
   "metadata": {},
   "outputs": [],
   "source": [
    "def heap_sort(tree, n, i):  # n表示節點樹、i表示要堆積化的節點編號\n",
    "    # 找i的子節點1\n",
    "    c1 = 2 * i + 1\n",
    "    # 找i的子節點2\n",
    "    c2 = 2 * i + 2\n",
    "    \n",
    "    if i >= n:\n",
    "        return tree\n",
    "    # 找父節點(i)和兩個子節點 誰最大，並且把最大的值設為父節點，較小的則成為子節點\n",
    "    # 當還有子節點時!!\n",
    "    while c2 < n:\n",
    "        if tree[c1] > tree[i]:\n",
    "            max_value = tree[c1]\n",
    "            swap(tree, c1, i)\n",
    "        elif tree[c2] > tree[i]:\n",
    "            max_value = tree[c2]\n",
    "            swap(tree, c2, i)\n",
    "        else:\n",
    "            max_value = tree[i]\n",
    "    return heapify(tree, n, max_value)"
   ]
  },
  {
   "cell_type": "code",
   "execution_count": null,
   "metadata": {},
   "outputs": [],
   "source": [
    "# 陷入迴圈，不知道哪裡錯\n",
    "T = [1, 2, 5, 6, 4, 3, 7]\n",
    "heap_sort(T, len(T), 2)\n",
    "T"
   ]
  },
  {
   "cell_type": "code",
   "execution_count": null,
   "metadata": {},
   "outputs": [],
   "source": []
  },
  {
   "cell_type": "markdown",
   "metadata": {},
   "source": [
    "### 參考資料：\n",
    "* https://www.youtube.com/watch?v=j-DqQcNPGbE"
   ]
  }
 ],
 "metadata": {
  "kernelspec": {
   "display_name": "Python 3",
   "language": "python",
   "name": "python3"
  },
  "language_info": {
   "codemirror_mode": {
    "name": "ipython",
    "version": 3
   },
   "file_extension": ".py",
   "mimetype": "text/x-python",
   "name": "python",
   "nbconvert_exporter": "python",
   "pygments_lexer": "ipython3",
   "version": "3.7.3"
  }
 },
 "nbformat": 4,
 "nbformat_minor": 2
}
