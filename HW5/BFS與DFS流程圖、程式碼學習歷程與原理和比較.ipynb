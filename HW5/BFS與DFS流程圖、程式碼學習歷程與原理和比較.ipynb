{
 "cells": [
  {
   "cell_type": "markdown",
   "metadata": {},
   "source": [
    "# BFS與DFS原理與比較"
   ]
  },
  {
   "cell_type": "markdown",
   "metadata": {},
   "source": [
    "### BFS(廣度優先搜尋 Breadth-First-Search)"
   ]
  },
  {
   "cell_type": "markdown",
   "metadata": {},
   "source": [
    "像在搜尋電腦資料夾時，BFS(廣度優先搜尋)不斷將某個資料夾內的子資料夾開啟直到沒有子資料夾為止，直到開完所有子資料夾後才返回前一個子資料夾，並重複開啟另一個子資料夾直到該資料夾沒有子資料夾為止。\n",
    "<br/>\n",
    "在遍歷圖形中的每個點時，BFS採取的是先進先出的資料結構，優先遍歷與起點接近的點(也就是為同一節層的點)，遍歷完後才開始進入下一個階層，遍歷下一個階層的點。"
   ]
  },
  {
   "cell_type": "markdown",
   "metadata": {},
   "source": [
    "### DFS(深度優先搜尋 Depth-First-Search)"
   ]
  },
  {
   "cell_type": "markdown",
   "metadata": {},
   "source": [
    "而DFS搜索模式則是將資料夾內的每一個子資料夾都看過後，再進入下一個子資料夾階層遍歷所有資料夾。\n",
    "<br/>\n",
    "；DFS則是先進後出的資料結構，從根節點開始將每一條路徑尋訪完，直到尋訪完後再返回前一個階層，選擇另一條路徑同樣深入尋訪，直到尋訪完成為止。"
   ]
  },
  {
   "cell_type": "markdown",
   "metadata": {},
   "source": [
    "## BFS與DFS的比較"
   ]
  },
  {
   "cell_type": "markdown",
   "metadata": {},
   "source": [
    "BFS和DFS都是尋找將圖型中每個點都走過的方式，但兩者不同的地方為遍歷的方式不同。\n",
    "### 兩個的差別：\n",
    "* (1) BFS按照節點出現的順序儲存遍歷的順序，因此先出現的先儲存，使用queue。\n",
    "* (2) DFS則是依深度優先原則，按照先被尋訪完的路徑儲存次序，因此使用stack方式儲存。\n",
    "* (3) 根據維基百科，當每條邊的長度相等時，BFS返回的會是最佳解。"
   ]
  },
  {
   "cell_type": "markdown",
   "metadata": {},
   "source": [
    "# 程式碼學習歷程"
   ]
  },
  {
   "cell_type": "markdown",
   "metadata": {},
   "source": [
    "### 此次所有程式碼皆是自己思考撰寫出，並無參考、搜尋任何網站提供的程式碼"
   ]
  },
  {
   "cell_type": "markdown",
   "metadata": {},
   "source": [
    "### `addEdge`函式\n",
    "目標：模擬流程圖戶相連接的關係，將點與點的連接(含方向性)以dict的方式儲存起來\n",
    "### `BFS`函式\n",
    "目標：使用BFS的走訪方式，將指定起點走訪到流程圖所有點的路程返回出來\n",
    "### `DFS`函式\n",
    "目標：使用DFS的走訪方式，從指定起點走訪到流程圖所有點的路程返回出來"
   ]
  },
  {
   "cell_type": "markdown",
   "metadata": {},
   "source": [
    "## 流程圖\n",
    "![BFS和DFS流程圖](https://github.com/agying/leetcode-practices/blob/master/BFS%E5%92%8CDFS%E6%B5%81%E7%A8%8B%E5%9C%96.jpg?raw=true)"
   ]
  },
  {
   "cell_type": "markdown",
   "metadata": {},
   "source": [
    "## BFS"
   ]
  },
  {
   "cell_type": "markdown",
   "metadata": {},
   "source": [
    "實現BFS的方法\n",
    "* (1) 建立兩個list，stat1和stat2，stat2則為返回的結果\n",
    "* (2) 當起點s真的存在於流程表中時，將起點s加入stat1，若不存在則返回[]\n",
    "* (3) 當stat1或stat2都沒有起點s的鄰點時，將能連接到起點的鄰點加入stat1\n",
    "* (4) 當起點s不存在於stat2時，將s新增到stat2，並從stat1中刪除(起點s位在stat1的首項)\n",
    "* (5) 直到stat1內還有點時，遞迴進BFS的函式(因為先進先出的關係，所以新起點是stat1的新首項\n",
    "* (6) 若stat1已沒有節點，則返回stat2，並且將stat1和stat2歸零"
   ]
  },
  {
   "cell_type": "code",
   "execution_count": null,
   "metadata": {},
   "outputs": [],
   "source": [
    "from collections import defaultdict \n",
    "  \n",
    "class Graph:\n",
    "    def __init__(self): \n",
    "        self.graph = defaultdict(list) \n",
    "\n",
    "    def addEdge(self, u, v): \n",
    "        self.graph[u].append(v) \n",
    "  \n",
    "    def BFS(self, s): \n",
    "        \"\"\"\n",
    "        :type s: int\n",
    "        :rtype: list\n",
    "        \"\"\"\n",
    "    def DFS(self, s):\n",
    "        \"\"\"\n",
    "        :type s: int\n",
    "        :rtype: list\n",
    "        \"\"\""
   ]
  },
  {
   "cell_type": "code",
   "execution_count": 5,
   "metadata": {},
   "outputs": [],
   "source": [
    "from collections import defaultdict \n",
    "\n",
    "class Graph:\n",
    "    stat1 = []\n",
    "    stat2 = []\n",
    "    \n",
    "    def __init__(self): \n",
    "        self.graph = defaultdict(list) \n",
    "\n",
    "    def addEdge(self,u,v): \n",
    "        self.graph[u].append(v)\n",
    "        \n",
    "    def BFS(self, s): \n",
    "        \n",
    "        stat1.append(s)\n",
    "        stat1.a\n",
    "#         a = self.graph[s]\n",
    "        \n",
    "#         stat1.append(s)\n",
    "#         stat1.append(a[0])\n",
    "#         head = stat1[0]\n",
    "#         stat1.pop(0)\n",
    "#         stat2.append(head)"
   ]
  },
  {
   "cell_type": "code",
   "execution_count": 2,
   "metadata": {},
   "outputs": [],
   "source": [
    "from collections import defaultdict \n",
    "stat1 = []\n",
    "stat2 = []\n",
    "\n",
    "class Graph:\n",
    "    \n",
    "    def __init__(self): \n",
    "        self.graph = defaultdict(list) \n",
    "\n",
    "    def addEdge(self,u,v): \n",
    "        self.graph[u].append(v)\n",
    "        \n",
    "        \n",
    "    def BFS(self, s): \n",
    "\n",
    "        global stat1\n",
    "        global stat2\n",
    "\n",
    "        if s in self.graph:\n",
    "            if s not in stat1:\n",
    "                stat1.append(s)\n",
    "            else:\n",
    "                pass\n",
    "        else:\n",
    "            return []\n",
    "        \n",
    "\n",
    "        for i in range(len(self.graph[s])):\n",
    "            if self.graph[s][i] in stat1 or self.graph[s][i] in stat2:\n",
    "                pass\n",
    "            else:\n",
    "                stat1.append(self.graph[s][i])\n",
    "            i = i + 1\n",
    "\n",
    "        if s in stat2:\n",
    "            pass\n",
    "        else:\n",
    "            stat2.append(s)\n",
    "            del stat1[0]\n",
    "        \n",
    "\n",
    "        if stat1 != []:\n",
    "            self.BFS(stat1[0])\n",
    "            \n",
    "        else:\n",
    "            print (stat2)\n",
    "            stat1 = []\n",
    "            stat2 = []"
   ]
  },
  {
   "cell_type": "code",
   "execution_count": 3,
   "metadata": {},
   "outputs": [
    {
     "name": "stdout",
     "output_type": "stream",
     "text": [
      "[0, 1, 2, 3]\n",
      "[1, 2, 0, 3]\n",
      "[2, 0, 3, 1]\n",
      "[3]\n"
     ]
    },
    {
     "data": {
      "text/plain": [
       "[]"
      ]
     },
     "execution_count": 3,
     "metadata": {},
     "output_type": "execute_result"
    }
   ],
   "source": [
    "g = Graph()\n",
    "g.addEdge(0, 1)\n",
    "g.addEdge(0, 2)\n",
    "g.addEdge(1, 2)\n",
    "g.addEdge(2, 0)\n",
    "g.addEdge(2, 3)\n",
    "g.addEdge(3, 3)\n",
    "\n",
    "g.BFS(0)\n",
    "g.BFS(1)\n",
    "g.BFS(2)\n",
    "g.BFS(3)\n",
    "g.BFS(45)"
   ]
  },
  {
   "cell_type": "markdown",
   "metadata": {},
   "source": [
    "## DFS"
   ]
  },
  {
   "cell_type": "markdown",
   "metadata": {},
   "source": [
    "實現DFS的方法\n",
    "* (1) 建立兩個list，stat1和stat2，stat2則為返回的結果\n",
    "* (2) 當起點s真的存在於流程表中時，將起點s加入stat2，若不存在則返回[]\n",
    "* (3) 當stat1或stat2都沒有起點s的鄰點時，將能連接到起點的所有鄰點加入stat1\n",
    "* (4) 當stat1內還有點時，將stat1最後一個點的值儲存起來並刪除，並遞迴進DFS的函式(因為先進後出的關係，所以新s是stat1的尾項)\n",
    "* (5) 若stat1已沒有點，則返回stat2，並且將stat1和stat2歸零"
   ]
  },
  {
   "cell_type": "code",
   "execution_count": 1,
   "metadata": {},
   "outputs": [],
   "source": [
    "from collections import defaultdict \n",
    "stat1 = []\n",
    "stat2 = []\n",
    "\n",
    "class Graph:\n",
    "    \n",
    "    def __init__(self): \n",
    "        self.graph = defaultdict(list)\n",
    "\n",
    "    def addEdge(self,u,v): \n",
    "        self.graph[u].append(v)\n",
    "        \n",
    "    def DFS(self, s): \n",
    "        global stat1\n",
    "        global stat2\n",
    "        \n",
    "        if s in self.graph:\n",
    "            stat2.append(s)\n",
    "        else:\n",
    "            return []\n",
    "        \n",
    "        for i in range(len(self.graph[s])):\n",
    "            if self.graph[s][i] in stat1 or self.graph[s][i] in stat2:\n",
    "                pass\n",
    "            else:\n",
    "                stat1.append(self.graph[s][i])\n",
    "            i = i + 1\n",
    "        \n",
    "        if stat1 != []:\n",
    "            last = stat1[-1]\n",
    "            del stat1[-1]\n",
    "            self.DFS(last)\n",
    "        else:\n",
    "            print(stat2)\n",
    "            stat1 = []\n",
    "            stat2 = []"
   ]
  },
  {
   "cell_type": "code",
   "execution_count": 2,
   "metadata": {},
   "outputs": [
    {
     "name": "stdout",
     "output_type": "stream",
     "text": [
      "[0, 2, 3, 1]\n",
      "[1, 2, 3, 0]\n",
      "[2, 3, 0, 1]\n",
      "[3]\n"
     ]
    },
    {
     "data": {
      "text/plain": [
       "[]"
      ]
     },
     "execution_count": 2,
     "metadata": {},
     "output_type": "execute_result"
    }
   ],
   "source": [
    "g = Graph()\n",
    "g.addEdge(0, 1)\n",
    "g.addEdge(0, 2)\n",
    "g.addEdge(1, 2)\n",
    "g.addEdge(2, 0)\n",
    "g.addEdge(2, 3)\n",
    "g.addEdge(3, 3)\n",
    "\n",
    "g.DFS(0)\n",
    "g.DFS(1)\n",
    "g.DFS(2)\n",
    "g.DFS(3)\n",
    "g.DFS(45)"
   ]
  },
  {
   "cell_type": "markdown",
   "metadata": {},
   "source": [
    "## DFS 和 BFS合併"
   ]
  },
  {
   "cell_type": "code",
   "execution_count": 6,
   "metadata": {},
   "outputs": [],
   "source": [
    "from collections import defaultdict \n",
    "stat1 = []\n",
    "stat2 = []\n",
    "\n",
    "class Graph:\n",
    "    \n",
    "    def __init__(self): \n",
    "        self.graph = defaultdict(list) \n",
    "\n",
    "    def addEdge(self,u,v): \n",
    "        self.graph[u].append(v)\n",
    "        \n",
    "        \n",
    "    def BFS(self, s): \n",
    "\n",
    "        global stat1\n",
    "        global stat2\n",
    "\n",
    "        if s in self.graph:\n",
    "            if s not in stat1:\n",
    "                stat1.append(s)\n",
    "            else:\n",
    "                pass\n",
    "        else:\n",
    "            return []\n",
    "        \n",
    "\n",
    "        for i in range(len(self.graph[s])):\n",
    "            if self.graph[s][i] in stat1 or self.graph[s][i] in stat2:\n",
    "                pass\n",
    "            else:\n",
    "                stat1.append(self.graph[s][i])\n",
    "            i = i + 1\n",
    "\n",
    "        if s in stat2:\n",
    "            pass\n",
    "        else:\n",
    "            stat2.append(s)\n",
    "            del stat1[0]\n",
    "        \n",
    "\n",
    "        if stat1 != []:\n",
    "            self.BFS(stat1[0])\n",
    "            \n",
    "        else:\n",
    "            print(stat2)\n",
    "            stat1 = []\n",
    "            stat2 = []\n",
    "            \n",
    "            \n",
    "    def DFS(self, s): \n",
    "        global stat1\n",
    "        global stat2\n",
    "        \n",
    "        if s in self.graph:\n",
    "            stat2.append(s)\n",
    "        else:\n",
    "            return []\n",
    "        \n",
    "        for i in range(len(self.graph[s])):\n",
    "            if self.graph[s][i] in stat1 or self.graph[s][i] in stat2:\n",
    "                pass\n",
    "            else:\n",
    "                stat1.append(self.graph[s][i])\n",
    "            i = i + 1\n",
    "        \n",
    "        if stat1 != []:\n",
    "            last = stat1[-1]\n",
    "            del stat1[-1]\n",
    "            self.DFS(last)\n",
    "        else:\n",
    "            print(stat2)\n",
    "            stat1 = []\n",
    "            stat2 = []"
   ]
  },
  {
   "cell_type": "code",
   "execution_count": 7,
   "metadata": {},
   "outputs": [
    {
     "name": "stdout",
     "output_type": "stream",
     "text": [
      "[2, 0, 3, 1]\n",
      "[1, 2, 0, 3]\n",
      "[2, 3, 0, 1]\n",
      "[3]\n"
     ]
    },
    {
     "data": {
      "text/plain": [
       "[]"
      ]
     },
     "execution_count": 7,
     "metadata": {},
     "output_type": "execute_result"
    }
   ],
   "source": [
    "g = Graph()\n",
    "g.addEdge(0, 1)\n",
    "g.addEdge(0, 2)\n",
    "g.addEdge(1, 2)\n",
    "g.addEdge(2, 0)\n",
    "g.addEdge(2, 3)\n",
    "g.addEdge(3, 3)\n",
    "\n",
    "g.BFS(2)\n",
    "g.BFS(1)\n",
    "g.DFS(2)\n",
    "g.DFS(3)\n",
    "g.DFS(45)\n",
    "g.BFS(787)"
   ]
  },
  {
   "cell_type": "markdown",
   "metadata": {},
   "source": [
    "# 參考資料\n",
    "## 程式碼撰寫部分\n",
    "程式碼撰寫和流程圖為自己完成，並無參考任何網站的程式碼\n",
    "<br/>\n",
    "## 原理、比較部分\n",
    "* https://magiclen.org/dfs-bfs/\n",
    "* https://codertw.com/%E7%A8%8B%E5%BC%8F%E8%AA%9E%E8%A8%80/102866/\n",
    "* http://programmermagazine.github.io/201406/htm/focus1.html\n",
    "* https://zh.wikipedia.org/zh-tw/%E5%B9%BF%E5%BA%A6%E4%BC%98%E5%85%88%E6%90%9C%E7%B4%A2#%E7%89%B9%E6%80%A7\n",
    "* https://zh.wikipedia.org/wiki/%E6%B7%B1%E5%BA%A6%E4%BC%98%E5%85%88%E6%90%9C%E7%B4%A2"
   ]
  }
 ],
 "metadata": {
  "kernelspec": {
   "display_name": "Python 3",
   "language": "python",
   "name": "python3"
  },
  "language_info": {
   "codemirror_mode": {
    "name": "ipython",
    "version": 3
   },
   "file_extension": ".py",
   "mimetype": "text/x-python",
   "name": "python",
   "nbconvert_exporter": "python",
   "pygments_lexer": "ipython3",
   "version": "3.7.3"
  }
 },
 "nbformat": 4,
 "nbformat_minor": 2
}
