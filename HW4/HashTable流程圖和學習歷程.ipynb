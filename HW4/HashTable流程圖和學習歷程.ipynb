{
 "cells": [
  {
   "cell_type": "markdown",
   "metadata": {},
   "source": [
    "# `hash table`與`hash function`原理"
   ]
  },
  {
   "cell_type": "markdown",
   "metadata": {},
   "source": [
    "#### hash function\n",
    "hash function 稱為雜湊演算法，功能是將一字串放進hash function後，進行像是加密、或重新給予編碼的處理。\n",
    "而這些被處理後的output，不可反推回原本的字串樣子，且壓縮後的編碼不容易和其他被處理過後的編碼衝突或相同，所以很常被用在加密的處理上。\n",
    "在瀏覽過許多網站和自己理解後，我整理了幾個hash function的性質：\n",
    "* (1) 不容易發生衝突狀況\n",
    "* (2) 即使兩個字串的文字只有一點差距，經過hash function處理後的output也會相差甚大，因此很適合用來做比較\n",
    "* (3) 即使輸入的字串很長很長，hash function處理後的編碼也是可以依function不同而固定的(但輸入很短，返回的值也是固定的長度)\n",
    "* (4) 運算速度快"
   ]
  },
  {
   "cell_type": "markdown",
   "metadata": {},
   "source": [
    "#### hash table\n",
    "hash table 則是被稱為雜湊表，是指存放hash function產出值而有的表，許多人在整理並為了方便檢索時，會將這些表使用Linked List串聯，並將他除以指定的儲存空間數，將具有相同餘數的雜湊數字，用Linked List串聯起來。而雖是題外話，但我此次使用的概念包含hash set的概念，每一個Linked List的值只能出現一次。"
   ]
  },
  {
   "cell_type": "markdown",
   "metadata": {},
   "source": [
    "# 學習歷程"
   ]
  },
  {
   "cell_type": "markdown",
   "metadata": {},
   "source": [
    "## 目標：\n",
    "### 生成Hash Table，並使其具有`add()`、`remove()`、`contains()`的功能，而其中被放入的字串，皆需要被MD5的方式編碼加密過。"
   ]
  },
  {
   "cell_type": "markdown",
   "metadata": {},
   "source": [
    "#### 第一步：先將指定的字串使用MD5方式加密，並改成數字方式編碼\n",
    "##### 套用Crypto.Hash功能"
   ]
  },
  {
   "cell_type": "code",
   "execution_count": 300,
   "metadata": {},
   "outputs": [
    {
     "name": "stdout",
     "output_type": "stream",
     "text": [
      "6905f7c6cd2ccce846e9e4b20ca24ab3\n",
      "139599926547555707976931732289954663091\n"
     ]
    }
   ],
   "source": [
    "from Crypto.Hash import MD5\n",
    "h = MD5.new()\n",
    "h.update(\"I Awoiejroiwjeroiweoriuweoriuweoiuroweiurowieurowieurowieurowieurowieum yin\".encode(\"utf-8\"))\n",
    "print(h.hexdigest())\n",
    "x = h.hexdigest()\n",
    "x = int(h.hexdigest(), 16)\n",
    "print(x)"
   ]
  },
  {
   "cell_type": "markdown",
   "metadata": {},
   "source": [
    "##### 字串成功編碼成MD5，可以開始寫add()"
   ]
  },
  {
   "cell_type": "markdown",
   "metadata": {},
   "source": [
    "雖然add()的順序看似是第一步應該完成的函數，但因為我假設資料儲存是Hash Set的模式，所以當新增資料的時候不能有重複的元素。"
   ]
  },
  {
   "cell_type": "markdown",
   "metadata": {},
   "source": [
    "第二步：定義ListNode()的型態，做為以後儲存元素的節點。\n",
    "我最初的構想是先寫`contains()`函式，並在`add()`中呼叫，當`contains()`返回False時，才需要新增函式"
   ]
  },
  {
   "cell_type": "code",
   "execution_count": 108,
   "metadata": {},
   "outputs": [],
   "source": [
    "class ListNode():\n",
    "    def __init__(self, val):\n",
    "        self.val = val\n",
    "        self.next = None\n",
    "\n",
    "class MyHashSet():\n",
    "    def __init__(self, capacity = 5):\n",
    "        self.capacity = capacity\n",
    "        self.data = [] * capacity\n",
    "    \n",
    "    def contains(self, key):\n",
    "        from Crypto.Hash import MD5\n",
    "        a = MD5.new()\n",
    "        key = str(key)\n",
    "        a.update(key.encode(\"utf-8\"))\n",
    "        x = a.hexdigest()\n",
    "        x = int(a.hexdigest(), 16)\n",
    "        remainder = x % self.capacity\n",
    "        remainder = ListNode(remainder)\n",
    "        \n",
    "        if remainder:\n",
    "            if remainder in self.data:\n",
    "                index = self.data.index(remainder)\n",
    "                now = self.data[index]\n",
    "                print(index)\n",
    "                if x == now.val:\n",
    "                    return True\n",
    "                else:\n",
    "                    now = now.next\n",
    "                    self.contains(key)\n",
    "                    return False\n",
    "            else:\n",
    "                return False\n",
    "        else:\n",
    "            return False\n",
    "    \n",
    "    def add(self, key):\n",
    "        from Crypto.Hash import MD5\n",
    "        a = MD5.new()\n",
    "        a.update(key.encode(\"utf-8\"))\n",
    "        x = a.hexdigest()\n",
    "        x = int(a.hexdigest(), 16)\n",
    "        remainder = x % self.capacity\n",
    "        \n",
    "        remainder = ListNode(remainder)\n",
    "        x = ListNode(x)\n",
    "        \n",
    "        b = self.contains(key)\n",
    "        if b == False:\n",
    "            if remainder.val in self.data:\n",
    "                now = self.data[self.data.index(remainder)]\n",
    "                now.next = x\n",
    "                x = now\n",
    "            else:\n",
    "                self.data.append(remainder)\n",
    "                remainder.next = x\n",
    "                now = x\n",
    "                \n",
    "        else:\n",
    "            return"
   ]
  },
  {
   "cell_type": "code",
   "execution_count": 109,
   "metadata": {},
   "outputs": [
    {
     "name": "stdout",
     "output_type": "stream",
     "text": [
      "False\n",
      "3\n",
      "4\n",
      "4\n",
      "4\n",
      "4\n"
     ]
    }
   ],
   "source": [
    "hashSet = MyHashSet()\n",
    "hashSet.add(\"coffee\")\n",
    "hashSet.add(\"Dog Mochi\")\n",
    "hashSet.add(\"golden\")\n",
    "hashSet.add(\"retriever\")\n",
    "hashSet.add(\"drink\")\n",
    "hashSet.add(\"0\")\n",
    "hashSet.add(\"1\")\n",
    "hashSet.add(\"2\")\n",
    "\n",
    "rel = hashSet.contains(\"cat\")\n",
    "print(rel)\n",
    "\n",
    "# add有問題\n",
    "print(hashSet.data[0].val)\n",
    "print(hashSet.data[1].val)\n",
    "print(hashSet.data[2].val)\n",
    "print(hashSet.data[3].val)\n",
    "print(hashSet.data[4].val)"
   ]
  },
  {
   "cell_type": "markdown",
   "metadata": {},
   "source": [
    "此時的`contain()`函式是有錯的，無論如何都會返回False，不過若單看`add()`函式本身，會發現依狀況不同，需要新增的資料也不同。\n",
    "* (1) self.data儲存餘數remainder，而當remainder還未被新增進self.data時，需要先在self.data中新增remainder節點，而remainder.next = ListNode(x)  (x 為 key MD5後的值)\n",
    "* (2) 當當self.data中已有和餘數相等的remainder節點值，則需要判斷這條ListNode()的每個節點，是否有x.val。若有則不用新增x；若無則新增x"
   ]
  },
  {
   "cell_type": "markdown",
   "metadata": {},
   "source": [
    "麻煩的是，要怎麼寫出來"
   ]
  },
  {
   "cell_type": "markdown",
   "metadata": {},
   "source": [
    "#### 發現add有問題"
   ]
  },
  {
   "cell_type": "code",
   "execution_count": 5,
   "metadata": {},
   "outputs": [],
   "source": [
    "class ListNode():\n",
    "    def __init__(self, val):\n",
    "        self.val = val\n",
    "        self.next = None\n",
    "\n",
    "class MyHashSet():\n",
    "    def __init__(self, capacity = 5):\n",
    "        self.capacity = capacity\n",
    "        self.data = [None] * capacity\n",
    "    \n",
    "    def contains(self, key):\n",
    "        from Crypto.Hash import MD5\n",
    "        a = MD5.new()\n",
    "        key = str(key)\n",
    "        a.update(key.encode(\"utf-8\"))\n",
    "        x = a.hexdigest()\n",
    "        x = int(a.hexdigest(), 16)\n",
    "        remainder = x % self.capacity\n",
    "        remainder = ListNode(remainder)\n",
    "        \n",
    "        if remainder:\n",
    "            if remainder in self.data:\n",
    "                index = self.data.index(remainder)\n",
    "                now = self.data[index]\n",
    "                print(index)\n",
    "                if x == now.val:\n",
    "                    return True\n",
    "                else:\n",
    "                    now = now.next\n",
    "                    self.contains(key)\n",
    "                    return False\n",
    "            else:\n",
    "                return False\n",
    "        else:\n",
    "            return False\n",
    "        \n",
    "    def add(self, key):\n",
    "        from Crypto.Hash import MD5\n",
    "        a = MD5.new()\n",
    "        a.update(key.encode(\"utf-8\"))\n",
    "        x = a.hexdigest()\n",
    "        x = int(a.hexdigest(), 16)\n",
    "        remainder = x % self.capacity\n",
    "        \n",
    "        remainder = ListNode(remainder)\n",
    "        x = ListNode(x)\n",
    "        \n",
    "        b = self.contains(key)\n",
    "        \n",
    "        if b == False:\n",
    "            # 此處有三個可能性，一為餘數的值尚未存在於self.data中，需要新增餘數和key值、\n",
    "            # 二到三種為已經存在在self.data中，不過key值已存在在ListNode中不需新增 、 key值不存在在listnode中，要找到listnode的尾巴新增\n",
    "            if remainder.val in self.data:\n",
    "                # 當x已存在於ListNode中，不須取代\n",
    "                now = self.data[remainder]\n",
    "                if now.next.val == x.val:\n",
    "                    return\n",
    "                else:\n",
    "                    now = now.next\n",
    "            \n",
    "            else:\n",
    "                self.data[remainder] = ListNode(remainder)\n",
    "                self.data[remainder].next = ListNode(x)\n",
    "                return self.add(key)\n",
    "            \n",
    "            \n",
    "       # 當值存在時，不須添加直接return就好      \n",
    "        else:\n",
    "            return"
   ]
  },
  {
   "cell_type": "code",
   "execution_count": 6,
   "metadata": {},
   "outputs": [
    {
     "ename": "TypeError",
     "evalue": "list indices must be integers or slices, not ListNode",
     "output_type": "error",
     "traceback": [
      "\u001b[1;31m---------------------------------------------------------------------------\u001b[0m",
      "\u001b[1;31mTypeError\u001b[0m                                 Traceback (most recent call last)",
      "\u001b[1;32m<ipython-input-6-e0786abbe2ad>\u001b[0m in \u001b[0;36m<module>\u001b[1;34m\u001b[0m\n\u001b[0;32m      1\u001b[0m \u001b[0mhashSet\u001b[0m \u001b[1;33m=\u001b[0m \u001b[0mMyHashSet\u001b[0m\u001b[1;33m(\u001b[0m\u001b[1;33m)\u001b[0m\u001b[1;33m\u001b[0m\u001b[1;33m\u001b[0m\u001b[0m\n\u001b[1;32m----> 2\u001b[1;33m \u001b[0mhashSet\u001b[0m\u001b[1;33m.\u001b[0m\u001b[0madd\u001b[0m\u001b[1;33m(\u001b[0m\u001b[1;34m\"cat\"\u001b[0m\u001b[1;33m)\u001b[0m\u001b[1;33m\u001b[0m\u001b[1;33m\u001b[0m\u001b[0m\n\u001b[0m\u001b[0;32m      3\u001b[0m \u001b[0mhashSet\u001b[0m\u001b[1;33m.\u001b[0m\u001b[0madd\u001b[0m\u001b[1;33m(\u001b[0m\u001b[1;34m\"Dog Mochi\"\u001b[0m\u001b[1;33m)\u001b[0m\u001b[1;33m\u001b[0m\u001b[1;33m\u001b[0m\u001b[0m\n\u001b[0;32m      4\u001b[0m \u001b[0mhashSet\u001b[0m\u001b[1;33m.\u001b[0m\u001b[0madd\u001b[0m\u001b[1;33m(\u001b[0m\u001b[1;34m\"golden\"\u001b[0m\u001b[1;33m)\u001b[0m\u001b[1;33m\u001b[0m\u001b[1;33m\u001b[0m\u001b[0m\n\u001b[0;32m      5\u001b[0m \u001b[0mhashSet\u001b[0m\u001b[1;33m.\u001b[0m\u001b[0madd\u001b[0m\u001b[1;33m(\u001b[0m\u001b[1;34m\"1.5\"\u001b[0m\u001b[1;33m)\u001b[0m\u001b[1;33m\u001b[0m\u001b[1;33m\u001b[0m\u001b[0m\n",
      "\u001b[1;32m<ipython-input-5-29b921fd1bf3>\u001b[0m in \u001b[0;36madd\u001b[1;34m(self, key)\u001b[0m\n\u001b[0;32m     60\u001b[0m \u001b[1;33m\u001b[0m\u001b[0m\n\u001b[0;32m     61\u001b[0m             \u001b[1;32melse\u001b[0m\u001b[1;33m:\u001b[0m\u001b[1;33m\u001b[0m\u001b[1;33m\u001b[0m\u001b[0m\n\u001b[1;32m---> 62\u001b[1;33m                 \u001b[0mself\u001b[0m\u001b[1;33m.\u001b[0m\u001b[0mdata\u001b[0m\u001b[1;33m[\u001b[0m\u001b[0mremainder\u001b[0m\u001b[1;33m]\u001b[0m \u001b[1;33m=\u001b[0m \u001b[0mListNode\u001b[0m\u001b[1;33m(\u001b[0m\u001b[0mremainder\u001b[0m\u001b[1;33m)\u001b[0m\u001b[1;33m\u001b[0m\u001b[1;33m\u001b[0m\u001b[0m\n\u001b[0m\u001b[0;32m     63\u001b[0m                 \u001b[0mself\u001b[0m\u001b[1;33m.\u001b[0m\u001b[0mdata\u001b[0m\u001b[1;33m[\u001b[0m\u001b[0mremainder\u001b[0m\u001b[1;33m]\u001b[0m\u001b[1;33m.\u001b[0m\u001b[0mnext\u001b[0m \u001b[1;33m=\u001b[0m \u001b[0mListNode\u001b[0m\u001b[1;33m(\u001b[0m\u001b[0mx\u001b[0m\u001b[1;33m)\u001b[0m\u001b[1;33m\u001b[0m\u001b[1;33m\u001b[0m\u001b[0m\n\u001b[0;32m     64\u001b[0m                 \u001b[1;32mreturn\u001b[0m \u001b[0mself\u001b[0m\u001b[1;33m.\u001b[0m\u001b[0madd\u001b[0m\u001b[1;33m(\u001b[0m\u001b[0mkey\u001b[0m\u001b[1;33m)\u001b[0m\u001b[1;33m\u001b[0m\u001b[1;33m\u001b[0m\u001b[0m\n",
      "\u001b[1;31mTypeError\u001b[0m: list indices must be integers or slices, not ListNode"
     ]
    }
   ],
   "source": [
    "hashSet = MyHashSet()\n",
    "hashSet.add(\"cat\")\n",
    "hashSet.add(\"Dog Mochi\")\n",
    "hashSet.add(\"golden\")\n",
    "hashSet.add(\"1.5\")\n",
    "\n",
    "rel = hashSet.contains(\"cat\")\n",
    "print(rel)\n",
    "print(hashSet.data[0].val)\n",
    "\n",
    "# add有問題\n",
    "print(hashSet.data[1].val)\n",
    "print(hashSet.data[2].val)\n",
    "print(hashSet.data[3].val)"
   ]
  },
  {
   "cell_type": "markdown",
   "metadata": {},
   "source": [
    "問題出現在判斷`self.data[remainder]`是否等於ListNode(remainder)\n",
    "為了解決搜尋的問題，我曾嘗試建立一個`search_ListNode()`的函式，來藉由返回true_False判斷式子是否成立\n",
    "新增`search_ListNode()`來尋找ListNode是否有key轉成的x值"
   ]
  },
  {
   "cell_type": "code",
   "execution_count": 94,
   "metadata": {},
   "outputs": [],
   "source": [
    "class ListNode():\n",
    "    def __init__(self, val):\n",
    "        self.val = val\n",
    "        self.next = None\n",
    "\n",
    "class MyHashSet():\n",
    "    def __init__(self, capacity = 5):\n",
    "        self.capacity = capacity\n",
    "        self.data = [None] * capacity\n",
    "    \n",
    "    def contains(self, key):\n",
    "        from Crypto.Hash import MD5\n",
    "        a = MD5.new()\n",
    "        key = str(key)\n",
    "        a.update(key.encode(\"utf-8\"))\n",
    "        x = a.hexdigest()\n",
    "        x = int(a.hexdigest(), 16)\n",
    "        remainder = x % self.capacity\n",
    "        remainder = ListNode(remainder)\n",
    "        \n",
    "        if remainder:\n",
    "            if remainder in self.data:\n",
    "                index = self.data.index(remainder)\n",
    "                now = self.data[index]\n",
    "                print(index)\n",
    "                if x == now.val:\n",
    "                    return True\n",
    "                else:\n",
    "                    now = now.next\n",
    "                    self.contains(key)\n",
    "                    return False\n",
    "            else:\n",
    "                return False\n",
    "        else:\n",
    "            return False\n",
    "        \n",
    "    def search_ListNode(self, remainder, x):\n",
    "#         from Crypto.Hash import MD5\n",
    "#         a = MD5.new()\n",
    "#         a.update(key.encode(\"utf-8\"))\n",
    "#         x = a.hexdigest()\n",
    "#         x = int(a.hexdigest(), 16)\n",
    "#         remainder = x % self.capacity\n",
    "        \n",
    "#         remainder = ListNode(remainder)\n",
    "        first_key = remainder.next\n",
    "        \n",
    "        if not first_key:\n",
    "            return \"not in here\"\n",
    "        if first_key.val == x:\n",
    "            return True\n",
    "        \n",
    "        return self.search_ListNode(first_key, x)\n",
    "        \n",
    "    \n",
    "    def add(self, key):\n",
    "        from Crypto.Hash import MD5\n",
    "        a = MD5.new()\n",
    "        a.update(key.encode(\"utf-8\"))\n",
    "        x = a.hexdigest()\n",
    "        x = int(a.hexdigest(), 16)\n",
    "        remainder = x % self.capacity\n",
    "        \n",
    "        remainder = ListNode(remainder)\n",
    "        x = ListNode(x)\n",
    "        \n",
    "        b = self.contains(key)\n",
    "        \n",
    "        if b == False:\n",
    "            # 此處有三個可能性，一為餘數的值尚未存在於self.data中，需要新增餘數和key值、\n",
    "            # 二到三種為已經存在在self.data中，不過key值已存在在ListNode中不需新增 、 key值不存在在listnode中，要找到listnode的尾巴新增\n",
    "            if remainder.val in self.data:\n",
    "                # 當x已存在於ListNode中，不須取代\n",
    "                if search_ListNode(remainder, x) == True:\n",
    "                    return\n",
    "                else:\n",
    "                    cur = self.data[remainder.val]\n",
    "                    while cur.next != None:\n",
    "                        cur = cur.next\n",
    "                    cur.next = x\n",
    "            \n",
    "       # 當值存在時，不須添加直接return就好      \n",
    "        else:\n",
    "            return"
   ]
  },
  {
   "cell_type": "markdown",
   "metadata": {},
   "source": [
    "### 最後發現問題！ \n",
    "#### 原來Linked List在List中無法使用`.index()`函數！<br/> 而LinkNode也不能直接在List中直接比較是否相等"
   ]
  },
  {
   "cell_type": "code",
   "execution_count": 93,
   "metadata": {},
   "outputs": [
    {
     "data": {
      "text/plain": [
       "False"
      ]
     },
     "execution_count": 93,
     "metadata": {},
     "output_type": "execute_result"
    }
   ],
   "source": [
    "### 原來linked list在List中沒有辦法使用.index()函數！！！\n",
    "\n",
    "\n",
    "class ListNode():\n",
    "    def __init__(self, val):\n",
    "        self.val = val\n",
    "        self.next = None\n",
    "        \n",
    "o = ['cat', 234, 'dfad', 245645, ListNode(55)]\n",
    "ListNode(55) in o"
   ]
  },
  {
   "cell_type": "code",
   "execution_count": 295,
   "metadata": {},
   "outputs": [
    {
     "name": "stdout",
     "output_type": "stream",
     "text": [
      "False\n"
     ]
    }
   ],
   "source": [
    "class ListNode():\n",
    "    def __init__(self, val):\n",
    "        self.val = val\n",
    "        self.next = None\n",
    "        \n",
    "f = [ListNode(1), ListNode(2), ListNode(3), ListNode(4)]\n",
    "# print(f[2].val == 3)\n",
    "print(f[2] == ListNode(3))"
   ]
  },
  {
   "cell_type": "markdown",
   "metadata": {},
   "source": [
    "發現問題是出在判別式：list中的ListNode()的值不能直接拿來和int比較!! 所以判別式的公式會導致self.data[0] != remainder.val  <br/>\n",
    "經過修改後，決定改寫判斷的程式碼："
   ]
  },
  {
   "cell_type": "markdown",
   "metadata": {},
   "source": [
    "# Add成功!!!"
   ]
  },
  {
   "cell_type": "code",
   "execution_count": 190,
   "metadata": {},
   "outputs": [
    {
     "name": "stdout",
     "output_type": "stream",
     "text": [
      "c935d187f0b998ef720390f85014ed1e\n",
      "267454268680180314793225837761097166110\n",
      "229404840929843000141111086926369191910\n"
     ]
    }
   ],
   "source": [
    "from Crypto.Hash import MD5\n",
    "h = MD5.new()\n",
    "h.update(\"Dog\".encode(\"utf-8\"))\n",
    "print(h.hexdigest())\n",
    "x = h.hexdigest()\n",
    "x = int(h.hexdigest(), 16)\n",
    "print(x)\n",
    "x % 5\n",
    "\n",
    "f = MD5.new()\n",
    "f.update(\"soda\".encode(\"utf-8\"))\n",
    "y = f.hexdigest()\n",
    "y = int(f.hexdigest(), 16)\n",
    "\n",
    "print(y)"
   ]
  },
  {
   "cell_type": "code",
   "execution_count": 212,
   "metadata": {},
   "outputs": [],
   "source": [
    "class ListNode():\n",
    "    def __init__(self, val):\n",
    "        self.val = val\n",
    "        self.next = None\n",
    "\n",
    "class MyHashSet():\n",
    "    def __init__(self, capacity = 5):\n",
    "        self.capacity = capacity\n",
    "        self.data = [None] * capacity\n",
    "    \n",
    "    def contains(self, key):\n",
    "        from Crypto.Hash import MD5\n",
    "        a = MD5.new()\n",
    "        key = str(key)\n",
    "        a.update(key.encode(\"utf-8\"))\n",
    "        x = a.hexdigest()\n",
    "        x = int(a.hexdigest(), 16)\n",
    "        remainder = x % self.capacity\n",
    "        remainder = ListNode(remainder)\n",
    "        \n",
    "        if remainder:\n",
    "            if remainder in self.data:\n",
    "                index = self.data.index(remainder)\n",
    "                now = self.data[index]\n",
    "                print(index)\n",
    "                if x == now.val:\n",
    "                    return True\n",
    "                else:\n",
    "                    now = now.next\n",
    "                    self.contains(key)\n",
    "                    return False\n",
    "            else:\n",
    "                return False\n",
    "        else:\n",
    "            return False        \n",
    "    \n",
    "    \n",
    "    def add(self, key):\n",
    "        from Crypto.Hash import MD5\n",
    "        a = MD5.new()\n",
    "        a.update(key.encode(\"utf-8\"))\n",
    "        x = a.hexdigest()\n",
    "        x = int(a.hexdigest(), 16)\n",
    "        remainder = x % self.capacity\n",
    "        \n",
    "        remainder = ListNode(remainder)\n",
    "        x = ListNode(x)\n",
    "        \n",
    "        if not self.data[remainder.val]:\n",
    "            self.data[remainder.val] = remainder\n",
    "            self.data[remainder.val].next = x\n",
    "        else:\n",
    "            now = self.data[remainder.val]\n",
    "            \n",
    "            while now.val != x.val and now.next:\n",
    "                now = now.next\n",
    "            if now.val != x.val:\n",
    "                now.next = x\n",
    "            else:\n",
    "                return"
   ]
  },
  {
   "cell_type": "code",
   "execution_count": 241,
   "metadata": {},
   "outputs": [
    {
     "name": "stdout",
     "output_type": "stream",
     "text": [
      "False\n",
      "267454268680180314793225837761097166110\n",
      "229404840929843000141111086926369191910\n",
      "229466311654740609737103861184741220735\n",
      "1\n",
      "2\n",
      "3\n",
      "4\n"
     ]
    }
   ],
   "source": [
    "hashSet = MyHashSet()\n",
    "hashSet.add(\"Dog\")        # 0\n",
    "hashSet.add(\"I Am yin\")   # 1\n",
    "hashSet.add(\"cat\")        # 2\n",
    "hashSet.add(\"Mochi\")      # 4\n",
    "hashSet.add(\"I Am yin1\")  # 4\n",
    "hashSet.add(\"coffee\")     # 3\n",
    "hashSet.add(\"cola\")       # 1\n",
    "hashSet.add(\"soda\")       # 0\n",
    "hashSet.add(\"Dog\")        # 0\n",
    "hashSet.add(\"aaba\")       # 0\n",
    "\n",
    "rel = hashSet.contains(\"cat\")\n",
    "print(rel)\n",
    "\n",
    "# add有問題\n",
    "print(hashSet.data[0].next.val)\n",
    "print(hashSet.data[0].next.next.val)\n",
    "print(hashSet.data[0].next.next.next.val)\n",
    "print(hashSet.data[1].val)\n",
    "print(hashSet.data[2].val)\n",
    "print(hashSet.data[3].val)\n",
    "print(hashSet.data[4].val)"
   ]
  },
  {
   "cell_type": "markdown",
   "metadata": {},
   "source": [
    "### 小驕傲的提一下，我發現`add()`的邏輯有很大一部分和`remove()`以及`contains()`很像，因此在`add()`的函式成功後，`remove()`和`contains()`的程式，在一小時內就完成了。"
   ]
  },
  {
   "cell_type": "markdown",
   "metadata": {},
   "source": [
    "## remove()"
   ]
  },
  {
   "cell_type": "code",
   "execution_count": 242,
   "metadata": {},
   "outputs": [],
   "source": [
    "class ListNode():\n",
    "    def __init__(self, val):\n",
    "        self.val = val\n",
    "        self.next = None\n",
    "\n",
    "class MyHashSet():\n",
    "    def __init__(self, capacity = 5):\n",
    "        self.capacity = capacity\n",
    "        self.data = [None] * capacity\n",
    "    \n",
    "    def remove(self, key):\n",
    "        from Crypto.Hash import MD5\n",
    "        a = MD5.new()\n",
    "        a.update(key.encode(\"utf-8\"))\n",
    "        x = a.hexdigest()\n",
    "        x = int(a.hexdigest(), 16)\n",
    "        remainder = x % self.capacity\n",
    "        \n",
    "        remainder = ListNode(remainder)\n",
    "        x = ListNode(x)\n",
    "        \n",
    "        if self.data[remainder.val]:\n",
    "            now = self.data[remainder.val]\n",
    "            while now.val != x.val and now.next:\n",
    "                former = now\n",
    "                now = now.next\n",
    "                \n",
    "            former.next = now.next\n",
    "\n",
    "        else:\n",
    "            return\n",
    "    \n",
    "    \n",
    "    def add(self, key):\n",
    "        from Crypto.Hash import MD5\n",
    "        a = MD5.new()\n",
    "        a.update(key.encode(\"utf-8\"))\n",
    "        x = a.hexdigest()\n",
    "        x = int(a.hexdigest(), 16)\n",
    "        remainder = x % self.capacity\n",
    "        \n",
    "        remainder = ListNode(remainder)\n",
    "        x = ListNode(x)\n",
    "        \n",
    "        if not self.data[remainder.val]:\n",
    "            self.data[remainder.val] = remainder\n",
    "            self.data[remainder.val].next = x\n",
    "        else:\n",
    "            now = self.data[remainder.val]\n",
    "            \n",
    "            while now.val != x.val and now.next:\n",
    "                now = now.next\n",
    "            if now.val != x.val:\n",
    "                now.next = x\n",
    "            else:\n",
    "                return"
   ]
  },
  {
   "cell_type": "code",
   "execution_count": 297,
   "metadata": {},
   "outputs": [
    {
     "name": "stdout",
     "output_type": "stream",
     "text": [
      "229404840929843000141111086926369191910\n",
      "229466311654740609737103861184741220735\n",
      "229466311654740609737103861184741220735\n",
      "1\n",
      "2\n",
      "3\n",
      "4\n"
     ]
    }
   ],
   "source": [
    "hashSet = MyHashSet()\n",
    "hashSet.add(\"Dog\")        # 0\n",
    "hashSet.add(\"I Am yin\")   # 1\n",
    "hashSet.add(\"cat\")        # 2\n",
    "hashSet.add(\"Mochi\")      # 4\n",
    "hashSet.add(\"I Am yin1\")  # 4\n",
    "hashSet.add(\"coffee\")     # 3\n",
    "hashSet.add(\"cola\")       # 1\n",
    "hashSet.add(\"soda\")       # 0\n",
    "hashSet.add(\"Dog\")        # 0\n",
    "hashSet.add(\"aaba\")       # 0\n",
    "\n",
    "hashSet.remove(\"Dog\")\n",
    "\n",
    "\n",
    "# add有問題\n",
    "print(hashSet.data[0].next.val)\n",
    "print(hashSet.data[0].next.next.val)\n",
    "print(hashSet.data[0].next.next.val)\n",
    "print(hashSet.data[1].val)\n",
    "print(hashSet.data[2].val)\n",
    "print(hashSet.data[3].val)\n",
    "print(hashSet.data[4].val)"
   ]
  },
  {
   "cell_type": "markdown",
   "metadata": {},
   "source": [
    "## contain()"
   ]
  },
  {
   "cell_type": "code",
   "execution_count": 282,
   "metadata": {},
   "outputs": [],
   "source": [
    "class ListNode():\n",
    "    def __init__(self, val):\n",
    "        self.val = val\n",
    "        self.next = None\n",
    "\n",
    "class MyHashSet():\n",
    "    def __init__(self, capacity = 5):\n",
    "        self.capacity = capacity\n",
    "        self.data = [None] * capacity\n",
    "    \n",
    "    def add(self, key):\n",
    "        from Crypto.Hash import MD5\n",
    "        a = MD5.new()\n",
    "        a.update(key.encode(\"utf-8\"))\n",
    "        x = a.hexdigest()\n",
    "        x = int(a.hexdigest(), 16)\n",
    "        remainder = x % self.capacity\n",
    "        \n",
    "        remainder = ListNode(remainder)\n",
    "        x = ListNode(x)\n",
    "        \n",
    "        if not self.data[remainder.val]:\n",
    "            self.data[remainder.val] = remainder\n",
    "            self.data[remainder.val].next = x\n",
    "        else:\n",
    "            now = self.data[remainder.val]\n",
    "            \n",
    "            while now.val != x.val and now.next:\n",
    "                now = now.next\n",
    "            if now.val != x.val:\n",
    "                now.next = x\n",
    "            else:\n",
    "                return\n",
    "            \n",
    "    def remove(self, key):\n",
    "        from Crypto.Hash import MD5\n",
    "        a = MD5.new()\n",
    "        a.update(key.encode(\"utf-8\"))\n",
    "        x = a.hexdigest()\n",
    "        x = int(a.hexdigest(), 16)\n",
    "        remainder = x % self.capacity\n",
    "        \n",
    "        remainder = ListNode(remainder)\n",
    "        x = ListNode(x)\n",
    "        \n",
    "        if self.data[remainder.val]:\n",
    "            now = self.data[remainder.val]\n",
    "            while now.val != x.val and now.next:\n",
    "                former = now\n",
    "                now = now.next\n",
    "                \n",
    "            former.next = now.next\n",
    "\n",
    "        else:\n",
    "            return\n",
    "    \n",
    "    \n",
    "    def contains(self, key):\n",
    "        from Crypto.Hash import MD5\n",
    "        a = MD5.new()\n",
    "        a.update(key.encode(\"utf-8\"))\n",
    "        x = a.hexdigest()\n",
    "        x = int(a.hexdigest(), 16)\n",
    "        remainder = x % self.capacity\n",
    "        \n",
    "        remainder = ListNode(remainder)\n",
    "        x = ListNode(x)\n",
    "        \n",
    "        if self.data[remainder.val].val == remainder.val:\n",
    "            now = self.data[remainder.val]\n",
    "            \n",
    "            while now.val != x.val and now.next:\n",
    "                now = now.next\n",
    "            if now.val == x.val:\n",
    "                return True\n",
    "            else:\n",
    "                return False\n",
    "                \n",
    "        else:\n",
    "            return False"
   ]
  },
  {
   "cell_type": "code",
   "execution_count": 292,
   "metadata": {},
   "outputs": [
    {
     "name": "stdout",
     "output_type": "stream",
     "text": [
      "True\n",
      "False\n",
      "False\n",
      "0\n",
      "277102220249073555409885156483852860632\n",
      "229404840929843000141111086926369191910\n"
     ]
    }
   ],
   "source": [
    "hashSet = MyHashSet(2) # 中間的2是指修改capacity預設為5的設定，改成capacity = 2\n",
    "hashSet.add(\"Dog\")        # 0\n",
    "hashSet.add(\"I Am yin\")   # 1\n",
    "hashSet.add(\"cat\")        # 2\n",
    "hashSet.add(\"Mochi\")      # 4\n",
    "hashSet.add(\"I Am yin1\")  # 4\n",
    "hashSet.add(\"coffee\")     # 3\n",
    "hashSet.add(\"cola\")       # 1\n",
    "hashSet.add(\"soda\")       # 0\n",
    "hashSet.add(\"Dog\")        # 0\n",
    "hashSet.add(\"aaba\")       # 0\n",
    "\n",
    "hashSet.remove(\"Dog\")\n",
    "a = hashSet.contains(\"I Am yin\")\n",
    "b = hashSet.contains(\"Dog\")\n",
    "c = hashSet.contains(\"0\")\n",
    "print(a)\n",
    "print(b)\n",
    "print(c)\n",
    "\n",
    "# add有問題\n",
    "print(hashSet.data[0].val)\n",
    "print(hashSet.data[0].next.val)\n",
    "print(hashSet.data[0].next.next.next.next.next.val)\n",
    "# print(hashSet.data[0].next.next.next.val)\n",
    "# print(hashSet.data[1].next.next.next.val)\n",
    "# print(hashSet.data[2].val)\n",
    "# print(hashSet.data[3].val)\n",
    "# print(hashSet.data[4].val)"
   ]
  },
  {
   "cell_type": "code",
   "execution_count": 277,
   "metadata": {},
   "outputs": [
    {
     "data": {
      "text/plain": [
       "True"
      ]
     },
     "execution_count": 277,
     "metadata": {},
     "output_type": "execute_result"
    }
   ],
   "source": [
    "class ListNode():\n",
    "    def __init__(self, val):\n",
    "        self.val = val\n",
    "        self.next = None\n",
    "x = ListNode(3)\n",
    "f = [ListNode(1), ListNode(2), ListNode(3), ListNode(4)]\n",
    "# f[2].val\n",
    "# x.val\n",
    "f[2].val == x.val\n",
    "\n",
    "# print(f[2] = ListNode(3))"
   ]
  },
  {
   "cell_type": "markdown",
   "metadata": {},
   "source": [
    "# 流程圖\n",
    "![hash table流程圖](https://github.com/agying/leetcode-practices/blob/master/Hash%20Table%E6%B5%81%E7%A8%8B%E5%9C%96.jpg?raw=true)"
   ]
  },
  {
   "cell_type": "markdown",
   "metadata": {},
   "source": [
    "## 參考資料"
   ]
  },
  {
   "cell_type": "markdown",
   "metadata": {},
   "source": [
    "## 參考資料\n",
    "\n",
    "### 程式碼撰寫\n",
    "不參考資料自力完成：`remove()`和`contains`函式\n",
    "* `add()`參考下列頁面的部分程式邏輯作為除錯和靈感\n",
    "* https://leetcode.com/problems/design-hashset/discuss/279957/Python-Chaining\n",
    "* https://leetcode.com/problems/design-hashset/discuss/379193/Python-chaining-hashset-easy-to-understand\n",
    "* https://kknews.cc/code/3mb5eg8.html\n",
    "\n",
    "並在stackoverflow提問過，雖未得到回覆，但還是自己摸索出問題所在\n",
    "* https://stackoverflow.com/questions/59181798/add-elements-to-linkedhashset-however-replace-instead\n",
    "\n",
    "### 流程圖 & Hash Table、Hash Function參考資料\n",
    "* https://zh.wikipedia.org/wiki/%E6%95%A3%E5%88%97%E5%87%BD%E6%95%B8\n",
    "* https://hackmd.io/@EW34LLeXTra2Oikg0WEQ5Q/HJln3jU_e?type=view\n",
    "* https://ithelp.ithome.com.tw/articles/10208884\n",
    "* \n",
    "* \n",
    "* "
   ]
  }
 ],
 "metadata": {
  "kernelspec": {
   "display_name": "Python 3",
   "language": "python",
   "name": "python3"
  },
  "language_info": {
   "codemirror_mode": {
    "name": "ipython",
    "version": 3
   },
   "file_extension": ".py",
   "mimetype": "text/x-python",
   "name": "python",
   "nbconvert_exporter": "python",
   "pygments_lexer": "ipython3",
   "version": "3.7.3"
  }
 },
 "nbformat": 4,
 "nbformat_minor": 2
}
