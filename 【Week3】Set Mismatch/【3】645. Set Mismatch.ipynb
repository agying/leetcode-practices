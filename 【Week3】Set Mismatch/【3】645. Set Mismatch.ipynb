{
 "cells": [
  {
   "cell_type": "code",
   "execution_count": 10,
   "metadata": {},
   "outputs": [],
   "source": [
    "class Solution:\n",
    "    def findErrorNums(self, nums):\n",
    "        n = len(nums)\n",
    "        \n",
    "        # 全部總和\n",
    "        nums_sum = sum(nums)\n",
    "        \n",
    "        # 不重複總和\n",
    "        unique_sum = sum(list(set(nums)))\n",
    "        \n",
    "        # 正確情況下總和\n",
    "        correct_sum = n*(n+1) / 2\n",
    "        \n",
    "        duplicated_num = nums_sum - unique_sum\n",
    "        missing_num = correct_sum - unique_sum\n",
    "        \n",
    "        missing_num = int(missing_num)\n",
    "        duplicated_num = int(duplicated_num)\n",
    "        \n",
    "        return [duplicated_num, missing_num]    "
   ]
  },
  {
   "cell_type": "code",
   "execution_count": 14,
   "metadata": {},
   "outputs": [
    {
     "data": {
      "text/plain": [
       "[3, 4]"
      ]
     },
     "execution_count": 14,
     "metadata": {},
     "output_type": "execute_result"
    }
   ],
   "source": [
    "nums = [1, 2, 3, 3, 5, 6]\n",
    "a = Solution()\n",
    "a.findErrorNums(nums)"
   ]
  },
  {
   "cell_type": "code",
   "execution_count": null,
   "metadata": {},
   "outputs": [],
   "source": []
  }
 ],
 "metadata": {
  "kernelspec": {
   "display_name": "Python 3",
   "language": "python",
   "name": "python3"
  },
  "language_info": {
   "codemirror_mode": {
    "name": "ipython",
    "version": 3
   },
   "file_extension": ".py",
   "mimetype": "text/x-python",
   "name": "python",
   "nbconvert_exporter": "python",
   "pygments_lexer": "ipython3",
   "version": "3.7.3"
  }
 },
 "nbformat": 4,
 "nbformat_minor": 2
}
