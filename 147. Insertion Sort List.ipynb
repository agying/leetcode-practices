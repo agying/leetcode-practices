{
 "cells": [
  {
   "cell_type": "code",
   "execution_count": 14,
   "metadata": {},
   "outputs": [],
   "source": [
    "# Definition for singly-linked list.\n",
    "class ListNode:\n",
    "    def __init__(self, x):\n",
    "        self.val = x\n",
    "        self.next = None\n",
    "\n",
    "\n",
    "class Solution(object):\n",
    "    def insertionSortList(self, head):\n",
    "        \"\"\"\n",
    "        :type head: ListNode\n",
    "        :rtype: ListNode\n",
    "        \"\"\"\n",
    "        \n",
    "        if not head or not head.next:\n",
    "            return head\n",
    "        \n",
    "        dummyHead = ListNode(0)  # DummyHead是虛擬節點，指向鍊表表頭head   # 一開始將表頭的值設為0\n",
    "        dummyHead.next = ListNode(head.val)  # 這裡的.next指的是節點(值 + 位址)\n",
    "        \n",
    "        p = head # Pointer of original\n",
    "        q = dummyHead  # dummyHead.next = head\n",
    "        while p:\n",
    "            \n",
    "            if q == dummyHead or p.val >= q.val:   # 當頭節點的值比虛擬節點的值大時，數字的順序不用改變\n",
    "                q.next = ListNode(p.val)           # 下任虛擬節點 = 前任Head的值   # 也就是讓虛擬節點指向下一個\n",
    "                p = p.next                         # 下任Head = 前任Head的位址\n",
    "                q = q.next                         # 下任虛擬節點是現任虛擬節點的下一任\n",
    "            elif p.val < q.val:                    # 但若當頭節點的值小於虛擬節點的值時 (兩個元素需對調，且頭節點還是原本的頭節點， 只有虛擬節點需要不斷左移和頭節點比大小\n",
    "                pre = dummyHead                    # \n",
    "                cur = dummyHead.next               # \n",
    "                while cur.val < p.val:             # \n",
    "                    pre = cur                      #\n",
    "                    cur = cur.next                 # \n",
    "                \n",
    "                node = ListNode(p.val)             # \n",
    "                pre.next = node                    # \n",
    "                node.next = cur                    # \n",
    "                p = p.next                         # \n",
    "                \n",
    "        return dummyHead.next"
   ]
  },
  {
   "cell_type": "code",
   "execution_count": null,
   "metadata": {},
   "outputs": [],
   "source": []
  }
 ],
 "metadata": {
  "kernelspec": {
   "display_name": "Python 3",
   "language": "python",
   "name": "python3"
  },
  "language_info": {
   "codemirror_mode": {
    "name": "ipython",
    "version": 3
   },
   "file_extension": ".py",
   "mimetype": "text/x-python",
   "name": "python",
   "nbconvert_exporter": "python",
   "pygments_lexer": "ipython3",
   "version": "3.7.3"
  }
 },
 "nbformat": 4,
 "nbformat_minor": 2
}
