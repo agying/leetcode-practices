{
 "cells": [
  {
   "cell_type": "markdown",
   "metadata": {},
   "source": [
    "# 合併排序法\n",
    "合併排序法是一個排序演算法，時間效率為O(nlogn)，和Quick Sort一樣是非常有效率的排序演算法。\n",
    "其演算的邏輯為下：\n",
    "* 1. 切割串列，直到每個串列的組成只剩一個元素 \n",
    "* 2. 將相鄰的兩個元素互比大小，並做排序(如小的在左邊，大的在右邊)；此時每個串列皆由1~2個元素構成\n",
    "* 3. 將相鄰的兩個串列首項互比大小，並將較小的元素移到到另一個新list(append新的、刪除舊的)\n",
    "* 4. 將左右兩個最新的首項互比大小，同樣將較小的元素移到上述的新list中\n",
    "* 5. 重複3的操作直到兩個串列中的每個元素皆比過大小，按順序排序"
   ]
  },
  {
   "cell_type": "markdown",
   "metadata": {},
   "source": [
    "## 1. 切割串列"
   ]
  },
  {
   "cell_type": "code",
   "execution_count": 1,
   "metadata": {},
   "outputs": [],
   "source": [
    "# 切割串列\n",
    "def cut_list(List):\n",
    "    if len(List) <= 1:\n",
    "        return List\n",
    "    \n",
    "    half = len(List) // 2\n",
    "    left = List[:half]\n",
    "    right = List[half:]\n",
    "    \n",
    "    # 遞迴\n",
    "    cut_left = cut_list(left)\n",
    "    cut_right = cut_list(right)\n",
    "    \n",
    "    return cut_left, cut_right"
   ]
  },
  {
   "cell_type": "code",
   "execution_count": 2,
   "metadata": {},
   "outputs": [
    {
     "data": {
      "text/plain": [
       "((([2], [6]), ([4], [3])), (([8], [7]), ([1], ([9], [5]))))"
      ]
     },
     "execution_count": 2,
     "metadata": {},
     "output_type": "execute_result"
    }
   ],
   "source": [
    "t = [2, 6, 4, 3, 8, 7, 1, 9, 5]\n",
    "cut_list(t)"
   ]
  },
  {
   "cell_type": "markdown",
   "metadata": {},
   "source": [
    "發現切割之後太多個()，想了很久發現是return那行表示法造成的，如果沒有return那行，`cut_list`的功能沒有錯誤，因此下方直接跳過return"
   ]
  },
  {
   "cell_type": "code",
   "execution_count": null,
   "metadata": {},
   "outputs": [],
   "source": [
    "# 切割串列\n",
    "def cut_list(List):\n",
    "    if len(List) <= 1:\n",
    "        return List\n",
    "    \n",
    "    half = len(List) // 2\n",
    "    left = List[:half]\n",
    "    right = List[half:]\n",
    "    \n",
    "    # 遞迴\n",
    "    cut_left = cut_list(left)\n",
    "    cut_right = cut_list(right)"
   ]
  },
  {
   "cell_type": "markdown",
   "metadata": {},
   "source": [
    "## 2. 比大小"
   ]
  },
  {
   "cell_type": "markdown",
   "metadata": {},
   "source": [
    "上方`cut_list`使程式將list切割為以元素為單位的list，接下來需要進行：\n",
    "* (1) 兩兩list相比大小 (此時的list皆只有一個元素)\n",
    "* (2) 將list從小到大排序並合併<br>\n",
    "* (3) **使用遞迴，將上方(1)(2)重新比較並合併**"
   ]
  },
  {
   "cell_type": "code",
   "execution_count": 37,
   "metadata": {},
   "outputs": [
    {
     "data": {
      "text/plain": [
       "[3, 8, 3, [11, 12], 5, 8, 3, [11, 12], 5, 9, 3, [11, 12], 5, 9, 3, [12]]"
      ]
     },
     "execution_count": 37,
     "metadata": {},
     "output_type": "execute_result"
    }
   ],
   "source": [
    "def compare_and_merge(cut_left, cut_right):\n",
    "    \n",
    "    combine_list = []\n",
    "\n",
    "    for i in range(0, len(cut_left)):\n",
    "        for j in range(0, len(cut_right)):\n",
    "               \n",
    "            # 比大小\n",
    "            if cut_left[i] >= cut_right[j]:\n",
    "                combine_list.append(cut_right[j])\n",
    "                j = j + 1\n",
    "            else:\n",
    "                combine_list.append(cut_left[i])\n",
    "                i = i + 1\n",
    "                \n",
    "            # 但當如果沒有可以比較的對象時，combine_list需要直接將\"剩下的list\" append加入\n",
    "            if i == len(cut_left):\n",
    "                combine_list.append(cut_right[j:])\n",
    "            elif j == len(cut_right):\n",
    "                combine_list.append(cut_left[i:])\n",
    "                  \n",
    "    return combine_list    \n",
    "    \n",
    "a = [3,8,11,12]\n",
    "b = [5, 9, 3]\n",
    "compare_and_merge(a, b)"
   ]
  },
  {
   "cell_type": "markdown",
   "metadata": {},
   "source": [
    "#### 又鬼打牆\n",
    "for_loop不會搭配i = i + 1 !!!! <br>\n",
    "while才能控制i = i + 1 !!!"
   ]
  },
  {
   "cell_type": "code",
   "execution_count": 1,
   "metadata": {},
   "outputs": [
    {
     "data": {
      "text/plain": [
       "[3, 4, 5, 6, 1, 8, 9, 7]"
      ]
     },
     "execution_count": 1,
     "metadata": {},
     "output_type": "execute_result"
    }
   ],
   "source": [
    "def compare_and_merge(cut_left, cut_right):\n",
    "    \n",
    "    combine_list = []\n",
    "\n",
    "    i = j = 0\n",
    "    while i < len(cut_left) and j < len(cut_right):\n",
    "               \n",
    "        # 比大小\n",
    "        if cut_left[i] >= cut_right[j]:\n",
    "            combine_list.append(cut_right[j])\n",
    "            j = j + 1\n",
    "        else:\n",
    "            combine_list.append(cut_left[i])\n",
    "            i = i + 1\n",
    "\n",
    "        # 但當如果沒有可以比較的對象時，combine_list需要直接將\"剩下的list\" append加入\n",
    "        if i == len(cut_left):\n",
    "            combine_list = combine_list + cut_right[j:]\n",
    "        elif j == len(cut_right):\n",
    "            combine_list = combine_list + cut_left[i:]\n",
    "\n",
    "    return combine_list    \n",
    "    \n",
    "a = [3, 4, 6, 1]\n",
    "b = [5, 8, 9, 7]\n",
    "compare_and_merge(a, b)"
   ]
  },
  {
   "cell_type": "markdown",
   "metadata": {},
   "source": [
    "### 3. 合併`cut_list`和`compare_and_merge`兩個def"
   ]
  },
  {
   "cell_type": "code",
   "execution_count": 9,
   "metadata": {},
   "outputs": [],
   "source": [
    "def merge_sort(List):\n",
    "    \n",
    "    # 以下為曾在上方定義的cut_list\n",
    "    if len(List) <= 1:\n",
    "        return List\n",
    "    \n",
    "    half = len(List) // 2\n",
    "    left = List[:half]\n",
    "    right = List[half:]\n",
    "    \n",
    "    # 遞迴\n",
    "    cut_left = merge_sort(left)\n",
    "    cut_right = merge_sort(right)\n",
    "\n",
    "    \n",
    "    # 以下為曾在上方定義的compare_and_merge(cut_left, cut_right)\n",
    "    \n",
    "    combine_list = []\n",
    "\n",
    "    i = j = 0\n",
    "    while i < len(cut_left) and j < len(cut_right):\n",
    "               \n",
    "        # 比大小\n",
    "        if cut_left[i] >= cut_right[j]:\n",
    "            combine_list.append(cut_right[j])\n",
    "            j = j + 1\n",
    "        else:\n",
    "            combine_list.append(cut_left[i])\n",
    "            i = i + 1\n",
    "\n",
    "        # 但當如果沒有可以比較的對象時，combine_list需要直接將\"剩下的list\" append加入\n",
    "        if i == len(cut_left):\n",
    "            combine_list = combine_list + cut_right[j:]\n",
    "        elif j == len(cut_right):\n",
    "            combine_list = combine_list + cut_left[i:]\n",
    "\n",
    "    return combine_list"
   ]
  },
  {
   "cell_type": "code",
   "execution_count": 10,
   "metadata": {
    "scrolled": false
   },
   "outputs": [
    {
     "data": {
      "text/plain": [
       "[-4, -3, -2, 2, 4, 6, 19]"
      ]
     },
     "execution_count": 10,
     "metadata": {},
     "output_type": "execute_result"
    }
   ],
   "source": [
    "t = [-3, 2, -4, 6, 4, -2, 19]\n",
    "merge_sort(t)"
   ]
  },
  {
   "cell_type": "markdown",
   "metadata": {},
   "source": [
    "## 4. 製作成class的模式："
   ]
  },
  {
   "cell_type": "code",
   "execution_count": 4,
   "metadata": {},
   "outputs": [],
   "source": [
    "class Solution():\n",
    "    \n",
    "    def merge_sort(self, List):\n",
    "    \n",
    "    # 以下為曾在上方定義的cut_list\n",
    "        if len(List) <= 1:\n",
    "            return List\n",
    "\n",
    "        half = len(List) // 2\n",
    "        left = List[:half]\n",
    "        right = List[half:]\n",
    "\n",
    "        # 遞迴\n",
    "        cut_left = self.merge_sort(left)\n",
    "        cut_right = self.merge_sort(right)\n",
    "\n",
    "\n",
    "        # 以下為曾在上方定義的compare_and_merge(cut_left, cut_right)\n",
    "\n",
    "        combine_list = []\n",
    "\n",
    "        i = j = 0\n",
    "        while i < len(cut_left) and j < len(cut_right):\n",
    "\n",
    "            # 比大小\n",
    "            if cut_left[i] >= cut_right[j]:\n",
    "                combine_list.append(cut_right[j])\n",
    "                j = j + 1\n",
    "            else:\n",
    "                combine_list.append(cut_left[i])\n",
    "                i = i + 1\n",
    "\n",
    "            # 但當如果沒有可以比較的對象時，combine_list需要直接將\"剩下的list\" append加入\n",
    "            if i == len(cut_left):\n",
    "                combine_list = combine_list + cut_right[j:]\n",
    "            elif j == len(cut_right):\n",
    "                combine_list = combine_list + cut_left[i:]\n",
    "\n",
    "        return combine_list"
   ]
  },
  {
   "cell_type": "code",
   "execution_count": 5,
   "metadata": {},
   "outputs": [
    {
     "data": {
      "text/plain": [
       "[-4, -3, -2, 2, 4, 6, 19]"
      ]
     },
     "execution_count": 5,
     "metadata": {},
     "output_type": "execute_result"
    }
   ],
   "source": [
    "output = Solution().merge_sort([-3, 2, -4, 6, 4, -2, 19])\n",
    "output"
   ]
  },
  {
   "cell_type": "markdown",
   "metadata": {},
   "source": [
    "## 大功告成！"
   ]
  },
  {
   "cell_type": "markdown",
   "metadata": {},
   "source": [
    "## 參考資料：\n",
    "* https://github.com/amirziai/learning/blob/master/algorithms/Merge-Sort.ipynb"
   ]
  }
 ],
 "metadata": {
  "kernelspec": {
   "display_name": "Python 3",
   "language": "python",
   "name": "python3"
  }
 },
 "nbformat": 4,
 "nbformat_minor": 2
}
