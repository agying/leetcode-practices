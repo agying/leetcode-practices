{
 "cells": [
  {
   "cell_type": "code",
   "execution_count": 2,
   "metadata": {},
   "outputs": [
    {
     "data": {
      "text/plain": [
       "<bound method Node.PrintTree of <__main__.Node object at 0x00000181A79CF5F8>>"
      ]
     },
     "execution_count": 2,
     "metadata": {},
     "output_type": "execute_result"
    }
   ],
   "source": [
    "class Node:\n",
    "    def __init__(self, data):\n",
    "        self.data = data\n",
    "        self.right = None\n",
    "        self.left = None\n",
    "\n",
    "class Tree:\n",
    "    def __init__(self, data, depth):\n",
    "        self.count = len(self)\n",
    "        self.depth = None\n",
    "        self.data = data\n",
    "\n",
    "  \n",
    "        \n"
   ]
  },
  {
   "cell_type": "code",
   "execution_count": null,
   "metadata": {},
   "outputs": [],
   "source": [
    "#     def add_root(self, data):\n",
    "    \n",
    "#     def add_left(self, index, data):\n",
    "    \n",
    "#     def add_right(self, index, data):\n",
    "        \n",
    "#     def replace(self, index, data):\n",
    "        \n",
    "#     def delete(self, index):\n",
    "        \n",
    "#     def attach(self, index, tree1, tree2):"
   ]
  }
 ],
 "metadata": {
  "kernelspec": {
   "display_name": "Python 3",
   "language": "python",
   "name": "python3"
  },
  "language_info": {
   "codemirror_mode": {
    "name": "ipython",
    "version": 3
   },
   "file_extension": ".py",
   "mimetype": "text/x-python",
   "name": "python",
   "nbconvert_exporter": "python",
   "pygments_lexer": "ipython3",
   "version": "3.7.3"
  }
 },
 "nbformat": 4,
 "nbformat_minor": 2
}
